{
 "cells": [
  {
   "cell_type": "code",
   "execution_count": 17,
   "metadata": {},
   "outputs": [],
   "source": [
    "import numpy as np\n",
    "import matplotlib.pyplot as plt\n",
    "from sklearn.metrics import roc_curve, roc_auc_score\n",
    "import pandas as pd\n",
    "import os\n",
    "\n",
    "\n",
    "def calculate_roc_auc(negative_scores, positive_scores):\n",
    "    # 创建标签，0代表人类写的，1代表机器生成的\n",
    "    labels = np.array([0] * len(negative_scores) + [1] * len(positive_scores))\n",
    "    # 合并所有得分\n",
    "    scores = np.array(negative_scores + positive_scores)\n",
    "    valid_indices = ~np.isnan(labels) & ~np.isnan(scores)\n",
    "    labels = labels[valid_indices]\n",
    "    scores = scores[valid_indices]\n",
    "    # 计算AUC\n",
    "    auc = roc_auc_score(labels, scores)\n",
    "    fpr, tpr, _ = roc_curve(labels, scores)\n",
    "    return auc, fpr, tpr\n",
    "\n",
    "def draw_roc(human_scores, wm_score):\n",
    "    auc_w, fpr_w, tpr_w = calculate_roc_auc(human_scores, wm_score)\n",
    "\n",
    "    plt.figure()\n",
    "    plt.plot(fpr_w, tpr_w, color='red', label=f'Adaptive watermarked (AUC = {auc_w:.4f})')\n",
    "\n",
    "    # Diagonal line for random chance\n",
    "    plt.plot([0, 1], [0, 1], color='gray', linestyle='--')\n",
    "\n",
    "    plt.xlim([0.0, 1.0])\n",
    "    plt.ylim([0.0, 1.1])\n",
    "    plt.xlabel('False Positive Rate')\n",
    "    plt.ylabel('True Positive Rate')\n",
    "    plt.title(f\"{os.path.basename(result_path).split('_')[0]} ROC\")\n",
    "    plt.legend(loc=\"lower right\")\n",
    "    plt.grid()\n",
    "    # plt.savefig(f\"outputs/roc.png\", dpi=300, bbox_inches='tight')\n",
    "    # plt.show()\n",
    "    print('ROC-AUC:', round(auc_w*100, 2))\n",
    "\n"
   ]
  },
  {
   "cell_type": "code",
   "execution_count": null,
   "metadata": {},
   "outputs": [],
   "source": [
    "def get_auc(df):\n",
    "    result_dict = {}\n",
    "    human_scores = df['human_score'].to_list()\n",
    "\n",
    "    for type_ in ['adaptive', 'paraphrased', 'spoofing']:\n",
    "        wm_scores = df[f'{type_}_watermarked_text_score'].to_list()\n",
    "        assert all(not np.isnan(score) for score in wm_scores), f'{type_} watermarked text scores contain NaN values'\n",
    "        auc_w, _, _ = calculate_roc_auc(human_scores, wm_scores)\n",
    "        result_dict[f'{type_}_auc'] = auc_w\n",
    "    return result_dict\n"
   ]
  },
  {
   "cell_type": "code",
   "execution_count": null,
   "metadata": {},
   "outputs": [
    {
     "name": "stdout",
     "output_type": "stream",
     "text": [
      "==================== train on c4 ====================\n",
      "------- wm on c4 -------\n",
      "Number of mutual non-empty rows: 177\n",
      "------- wm on lfqa -------\n",
      "Number of mutual non-empty rows: 101\n",
      "------- wm on imdb -------\n",
      "==================== train on imdb-c4 ====================\n",
      "------- wm on c4 -------\n",
      "Number of mutual non-empty rows: 181\n",
      "------- wm on lfqa -------\n",
      "Number of mutual non-empty rows: 111\n",
      "------- wm on imdb -------\n",
      "Number of mutual non-empty rows: 54\n"
     ]
    }
   ],
   "source": [
    "import os\n",
    "import re\n",
    "import glob\n",
    "\n",
    "root_path = \"/blue/buyuheng/li_an.ucsb/projects/watermark-simcse/watermarking/outputs/\"\n",
    "\n",
    "train_dataset_names = ['c4', 'imdb-c4']\n",
    "wm_dataset_names = ['c4', 'lfqa', 'imdb']\n",
    "\n",
    "results = []\n",
    "for train_dataset_name in train_dataset_names:\n",
    "    print(f'==================== train on {train_dataset_name} ====================')\n",
    "    for wm_dataset_name in wm_dataset_names:\n",
    "        print(f'------- wm on {wm_dataset_name} -------')\n",
    "        pattern = re.compile(rf\"\"\"\n",
    "            .*/{train_dataset_name}/(?P<model_name>[^/]+)/(?P<batch_size>\\d+)batch_(?P<num_epoch>\\d+)epochs/\n",
    "            llama(?P<num_paraphrased_llama>\\d+)-(?P<num_negative_llama>\\d+)gpt(?P<num_paraphrased_gpt>\\d+)-(?P<num_negative_gpt>\\d+)-(?P<num_summary>\\d+)/\n",
    "            loss_cl(?P<cl_weight>[\\d\\.]+)-tl(?P<tl_weight>[\\d\\.]+)-wneg(?P<neg_weight>[\\d\\.]+)-margin(?P<margin>[\\d\\.]+)/\n",
    "            wm-{wm_dataset_name}-alpha(?P<alpha>[\\d\\.]+)-delta(?P<delta_0>[\\d\\.]+)\\|(?P<delta>[\\d\\.]+)\\.csv$\n",
    "        \"\"\", re.VERBOSE)\n",
    "\n",
    "        # find mutual non-empty rows\n",
    "        mutual_non_empty_indices = None\n",
    "        for filepath in glob.iglob(root_path + \"/**/*.csv\", recursive=True):\n",
    "            match = pattern.match(filepath)\n",
    "            if match:\n",
    "                df = pd.read_csv(filepath)\n",
    "                df = df[['human_score', 'adaptive_watermarked_text_score', 'paraphrased_watermarked_text_score', 'spoofing_watermarked_text_score']]\n",
    "                non_empty_indices = set(df.dropna().index)\n",
    "                if mutual_non_empty_indices is None:\n",
    "                    mutual_non_empty_indices = non_empty_indices\n",
    "                else:\n",
    "                    mutual_non_empty_indices = mutual_non_empty_indices.intersection(non_empty_indices)\n",
    "\n",
    "        # get roc-auc results of mutual non-empty rows\n",
    "        if mutual_non_empty_indices is not None:\n",
    "            mutual_non_empty_indices = list(mutual_non_empty_indices)\n",
    "            print(f'Number of mutual non-empty rows: {len(mutual_non_empty_indices)}')\n",
    "            for filepath in glob.iglob(root_path + \"/**/*.csv\", recursive=True):\n",
    "                match = pattern.match(filepath)\n",
    "                if match:\n",
    "                    df = pd.read_csv(filepath)\n",
    "                    df = df[['human_score', 'adaptive_watermarked_text_score', 'paraphrased_watermarked_text_score', 'spoofing_watermarked_text_score']]\n",
    "                    df = df.loc[mutual_non_empty_indices]\n",
    "                    auc_result_dict = get_auc(df)\n",
    "\n",
    "                    result_dict = {'train_dataset_name': train_dataset_name, 'wm_dataset_name': wm_dataset_name}\n",
    "                    result_dict.update(match.groupdict())\n",
    "                    result_dict.update(auc_result_dict)\n",
    "                    results.append(result_dict)\n",
    "\n"
   ]
  },
  {
   "cell_type": "code",
   "execution_count": null,
   "metadata": {},
   "outputs": [],
   "source": [
    "results = pd.DataFrame(results)\n",
    "results.to_csv(os.path.join(root_path, 'roc_auc_results.csv'), index=False)"
   ]
  },
  {
   "cell_type": "code",
   "execution_count": 34,
   "metadata": {},
   "outputs": [
    {
     "name": "stdout",
     "output_type": "stream",
     "text": [
      "/blue/buyuheng/li_an.ucsb/projects/watermark-simcse/watermarking/util\n"
     ]
    }
   ],
   "source": [
    "!pwd"
   ]
  }
 ],
 "metadata": {
  "kernelspec": {
   "display_name": "Python 3",
   "language": "python",
   "name": "python3"
  },
  "language_info": {
   "codemirror_mode": {
    "name": "ipython",
    "version": 3
   },
   "file_extension": ".py",
   "mimetype": "text/x-python",
   "name": "python",
   "nbconvert_exporter": "python",
   "pygments_lexer": "ipython3",
   "version": "3.10.15"
  }
 },
 "nbformat": 4,
 "nbformat_minor": 2
}
