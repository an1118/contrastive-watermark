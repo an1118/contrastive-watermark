{
 "cells": [
  {
   "cell_type": "code",
   "execution_count": 1,
   "metadata": {},
   "outputs": [],
   "source": [
    "import numpy as np\n",
    "import matplotlib.pyplot as plt\n",
    "from sklearn.metrics import roc_curve, roc_auc_score\n",
    "import pandas as pd\n",
    "import os\n",
    "\n",
    "\n",
    "def calculate_roc_auc(negative_scores, positive_scores):\n",
    "    # 创建标签，0代表人类写的，1代表机器生成的\n",
    "    labels = np.array([0] * len(negative_scores) + [1] * len(positive_scores))\n",
    "    # 合并所有得分\n",
    "    scores = np.array(negative_scores + positive_scores)\n",
    "    valid_indices = ~np.isnan(labels) & ~np.isnan(scores)\n",
    "    labels = labels[valid_indices]\n",
    "    scores = scores[valid_indices]\n",
    "    # 计算AUC\n",
    "    auc = roc_auc_score(labels, scores)\n",
    "    fpr, tpr, _ = roc_curve(labels, scores)\n",
    "    return auc, fpr, tpr\n",
    "\n",
    "def draw_roc(human_scores, wm_score):\n",
    "    auc_w, fpr_w, tpr_w = calculate_roc_auc(human_scores, wm_score)\n",
    "\n",
    "    plt.figure()\n",
    "    plt.plot(fpr_w, tpr_w, color='red', label=f'Adaptive watermarked (AUC = {auc_w:.4f})')\n",
    "\n",
    "    # Diagonal line for random chance\n",
    "    plt.plot([0, 1], [0, 1], color='gray', linestyle='--')\n",
    "\n",
    "    plt.xlim([0.0, 1.0])\n",
    "    plt.ylim([0.0, 1.1])\n",
    "    plt.xlabel('False Positive Rate')\n",
    "    plt.ylabel('True Positive Rate')\n",
    "    plt.title(f\"{os.path.basename(result_path).split('_')[0]} ROC\")\n",
    "    plt.legend(loc=\"lower right\")\n",
    "    plt.grid()\n",
    "    # plt.savefig(f\"outputs/roc.png\", dpi=300, bbox_inches='tight')\n",
    "    # plt.show()\n",
    "    print('ROC-AUC:', round(auc_w*100, 2))\n",
    "\n"
   ]
  },
  {
   "cell_type": "code",
   "execution_count": 2,
   "metadata": {},
   "outputs": [],
   "source": [
    "def get_auc(df):\n",
    "    result_dict = {}\n",
    "    human_scores = df['human_score'].to_list()\n",
    "\n",
    "    for type_ in ['adaptive', 'paraphrased', 'spoofing', 'latter_spoofing']:\n",
    "        wm_scores = df[f'{type_}_watermarked_text_score'].to_list()\n",
    "        assert all(not np.isnan(score) for score in wm_scores), f'{type_} watermarked text scores contain NaN values'\n",
    "        auc_w, _, _ = calculate_roc_auc(human_scores, wm_scores)\n",
    "        result_dict[f'{type_}_auc'] = auc_w\n",
    "    return result_dict\n"
   ]
  },
  {
   "cell_type": "code",
   "execution_count": null,
   "metadata": {},
   "outputs": [
    {
     "name": "stdout",
     "output_type": "stream",
     "text": [
      "==================== train on c4 ====================\n",
      "------- wm on c4 -------\n",
      "Number of mutual non-empty rows: 169\n"
     ]
    },
    {
     "ename": "KeyError",
     "evalue": "\"['latter_spoofing_watermarked_text_score'] not in index\"",
     "output_type": "error",
     "traceback": [
      "\u001b[0;31m---------------------------------------------------------------------------\u001b[0m",
      "\u001b[0;31mKeyError\u001b[0m                                  Traceback (most recent call last)",
      "Cell \u001b[0;32mIn[4], line 60\u001b[0m\n\u001b[1;32m     58\u001b[0m \u001b[38;5;28;01mif\u001b[39;00m \u001b[38;5;124m'\u001b[39m\u001b[38;5;124mhate_watermarked_text_score\u001b[39m\u001b[38;5;124m'\u001b[39m \u001b[38;5;129;01min\u001b[39;00m df\u001b[38;5;241m.\u001b[39mcolumns:\n\u001b[1;32m     59\u001b[0m     df[\u001b[38;5;124m'\u001b[39m\u001b[38;5;124mspoofing_watermarked_text_score\u001b[39m\u001b[38;5;124m'\u001b[39m] \u001b[38;5;241m=\u001b[39m df[\u001b[38;5;124m'\u001b[39m\u001b[38;5;124mhate_watermarked_text_score\u001b[39m\u001b[38;5;124m'\u001b[39m]                    \n\u001b[0;32m---> 60\u001b[0m df \u001b[38;5;241m=\u001b[39m \u001b[43mdf\u001b[49m\u001b[43m[\u001b[49m\u001b[43m[\u001b[49m\u001b[38;5;124;43m'\u001b[39;49m\u001b[38;5;124;43mhuman_score\u001b[39;49m\u001b[38;5;124;43m'\u001b[39;49m\u001b[43m,\u001b[49m\u001b[43m \u001b[49m\u001b[38;5;124;43m'\u001b[39;49m\u001b[38;5;124;43madaptive_watermarked_text_score\u001b[39;49m\u001b[38;5;124;43m'\u001b[39;49m\u001b[43m,\u001b[49m\u001b[43m \u001b[49m\u001b[38;5;124;43m'\u001b[39;49m\u001b[38;5;124;43mparaphrased_watermarked_text_score\u001b[39;49m\u001b[38;5;124;43m'\u001b[39;49m\u001b[43m,\u001b[49m\u001b[43m \u001b[49m\u001b[38;5;124;43m'\u001b[39;49m\u001b[38;5;124;43mspoofing_watermarked_text_score\u001b[39;49m\u001b[38;5;124;43m'\u001b[39;49m\u001b[43m,\u001b[49m\u001b[43m \u001b[49m\u001b[38;5;124;43m'\u001b[39;49m\u001b[38;5;124;43mlatter_spoofing_watermarked_text_score\u001b[39;49m\u001b[38;5;124;43m'\u001b[39;49m\u001b[43m]\u001b[49m\u001b[43m]\u001b[49m\n\u001b[1;32m     61\u001b[0m df \u001b[38;5;241m=\u001b[39m df\u001b[38;5;241m.\u001b[39mloc[mutual_non_empty_indices]\n\u001b[1;32m     62\u001b[0m auc_result_dict \u001b[38;5;241m=\u001b[39m get_auc(df)\n",
      "File \u001b[0;32m/blue/buyuheng/li_an.ucsb/.conda/envs/watermark-simcse/lib/python3.10/site-packages/pandas/core/frame.py:3902\u001b[0m, in \u001b[0;36mDataFrame.__getitem__\u001b[0;34m(self, key)\u001b[0m\n\u001b[1;32m   3900\u001b[0m     \u001b[38;5;28;01mif\u001b[39;00m is_iterator(key):\n\u001b[1;32m   3901\u001b[0m         key \u001b[38;5;241m=\u001b[39m \u001b[38;5;28mlist\u001b[39m(key)\n\u001b[0;32m-> 3902\u001b[0m     indexer \u001b[38;5;241m=\u001b[39m \u001b[38;5;28;43mself\u001b[39;49m\u001b[38;5;241;43m.\u001b[39;49m\u001b[43mcolumns\u001b[49m\u001b[38;5;241;43m.\u001b[39;49m\u001b[43m_get_indexer_strict\u001b[49m\u001b[43m(\u001b[49m\u001b[43mkey\u001b[49m\u001b[43m,\u001b[49m\u001b[43m \u001b[49m\u001b[38;5;124;43m\"\u001b[39;49m\u001b[38;5;124;43mcolumns\u001b[39;49m\u001b[38;5;124;43m\"\u001b[39;49m\u001b[43m)\u001b[49m[\u001b[38;5;241m1\u001b[39m]\n\u001b[1;32m   3904\u001b[0m \u001b[38;5;66;03m# take() does not accept boolean indexers\u001b[39;00m\n\u001b[1;32m   3905\u001b[0m \u001b[38;5;28;01mif\u001b[39;00m \u001b[38;5;28mgetattr\u001b[39m(indexer, \u001b[38;5;124m\"\u001b[39m\u001b[38;5;124mdtype\u001b[39m\u001b[38;5;124m\"\u001b[39m, \u001b[38;5;28;01mNone\u001b[39;00m) \u001b[38;5;241m==\u001b[39m \u001b[38;5;28mbool\u001b[39m:\n",
      "File \u001b[0;32m/blue/buyuheng/li_an.ucsb/.conda/envs/watermark-simcse/lib/python3.10/site-packages/pandas/core/indexes/base.py:6114\u001b[0m, in \u001b[0;36mIndex._get_indexer_strict\u001b[0;34m(self, key, axis_name)\u001b[0m\n\u001b[1;32m   6111\u001b[0m \u001b[38;5;28;01melse\u001b[39;00m:\n\u001b[1;32m   6112\u001b[0m     keyarr, indexer, new_indexer \u001b[38;5;241m=\u001b[39m \u001b[38;5;28mself\u001b[39m\u001b[38;5;241m.\u001b[39m_reindex_non_unique(keyarr)\n\u001b[0;32m-> 6114\u001b[0m \u001b[38;5;28;43mself\u001b[39;49m\u001b[38;5;241;43m.\u001b[39;49m\u001b[43m_raise_if_missing\u001b[49m\u001b[43m(\u001b[49m\u001b[43mkeyarr\u001b[49m\u001b[43m,\u001b[49m\u001b[43m \u001b[49m\u001b[43mindexer\u001b[49m\u001b[43m,\u001b[49m\u001b[43m \u001b[49m\u001b[43maxis_name\u001b[49m\u001b[43m)\u001b[49m\n\u001b[1;32m   6116\u001b[0m keyarr \u001b[38;5;241m=\u001b[39m \u001b[38;5;28mself\u001b[39m\u001b[38;5;241m.\u001b[39mtake(indexer)\n\u001b[1;32m   6117\u001b[0m \u001b[38;5;28;01mif\u001b[39;00m \u001b[38;5;28misinstance\u001b[39m(key, Index):\n\u001b[1;32m   6118\u001b[0m     \u001b[38;5;66;03m# GH 42790 - Preserve name from an Index\u001b[39;00m\n",
      "File \u001b[0;32m/blue/buyuheng/li_an.ucsb/.conda/envs/watermark-simcse/lib/python3.10/site-packages/pandas/core/indexes/base.py:6178\u001b[0m, in \u001b[0;36mIndex._raise_if_missing\u001b[0;34m(self, key, indexer, axis_name)\u001b[0m\n\u001b[1;32m   6175\u001b[0m     \u001b[38;5;28;01mraise\u001b[39;00m \u001b[38;5;167;01mKeyError\u001b[39;00m(\u001b[38;5;124mf\u001b[39m\u001b[38;5;124m\"\u001b[39m\u001b[38;5;124mNone of [\u001b[39m\u001b[38;5;132;01m{\u001b[39;00mkey\u001b[38;5;132;01m}\u001b[39;00m\u001b[38;5;124m] are in the [\u001b[39m\u001b[38;5;132;01m{\u001b[39;00maxis_name\u001b[38;5;132;01m}\u001b[39;00m\u001b[38;5;124m]\u001b[39m\u001b[38;5;124m\"\u001b[39m)\n\u001b[1;32m   6177\u001b[0m not_found \u001b[38;5;241m=\u001b[39m \u001b[38;5;28mlist\u001b[39m(ensure_index(key)[missing_mask\u001b[38;5;241m.\u001b[39mnonzero()[\u001b[38;5;241m0\u001b[39m]]\u001b[38;5;241m.\u001b[39munique())\n\u001b[0;32m-> 6178\u001b[0m \u001b[38;5;28;01mraise\u001b[39;00m \u001b[38;5;167;01mKeyError\u001b[39;00m(\u001b[38;5;124mf\u001b[39m\u001b[38;5;124m\"\u001b[39m\u001b[38;5;132;01m{\u001b[39;00mnot_found\u001b[38;5;132;01m}\u001b[39;00m\u001b[38;5;124m not in index\u001b[39m\u001b[38;5;124m\"\u001b[39m)\n",
      "\u001b[0;31mKeyError\u001b[0m: \"['latter_spoofing_watermarked_text_score'] not in index\""
     ]
    }
   ],
   "source": [
    "import os\n",
    "import re\n",
    "import glob\n",
    "\n",
    "root_path = \"/blue/buyuheng/li_an.ucsb/projects/watermark-simcse/watermarking/outputs/\"\n",
    "baseline_root = rf'/blue/buyuheng/li_an.ucsb/projects/baselines/adaptive-text-watermark/outputs'\n",
    "\n",
    "train_dataset_names = ['c4']\n",
    "wm_dataset_names = ['c4', 'lfqa']\n",
    "\n",
    "results = []\n",
    "baseline_results = []\n",
    "for train_dataset_name in train_dataset_names:\n",
    "    print(f'==================== train on {train_dataset_name} ====================')\n",
    "    for wm_dataset_name in wm_dataset_names:\n",
    "        print(f'------- wm on {wm_dataset_name} -------')\n",
    "        pattern = re.compile(rf\"\"\"\n",
    "            .*/{train_dataset_name}/(?P<model_name>[^/]+)/(?P<batch_size>\\d+)batch_(?P<num_epoch>\\d+)epochs/\n",
    "            llama(?P<num_paraphrased_llama>\\d+)-(?P<num_negative_llama>\\d+)gpt(?P<num_paraphrased_gpt>\\d+)-(?P<num_negative_gpt>\\d+)-(?P<num_summary>\\d+)/\n",
    "            loss_cl(?P<cl_weight>[\\d\\.]+)-tl(?P<tl_weight>[\\d\\.]+)-wneg(?P<neg_weight>[\\d\\.]+)-margin(?P<margin>[\\d\\.]+)/\n",
    "            wm-{wm_dataset_name}-alpha(?P<alpha>[\\d\\.]+)-delta(?P<delta_0>[\\d\\.]+)\\|(?P<delta>[\\d\\.]+)\\.csv$\n",
    "        \"\"\", re.VERBOSE)\n",
    "        baseline_pattern = re.compile(rf\".*/wm-{wm_dataset_name}-alpha(?P<alpha>[\\d\\.]+)-delta(?P<delta_0>[\\d\\.]+)\\|(?P<delta>[\\d\\.]+)\\.csv$\", re.VERBOSE)\n",
    "\n",
    "        # find mutual non-empty rows\n",
    "        mutual_non_empty_indices = None\n",
    "        for filepath in glob.iglob(root_path + \"/**/*.csv\", recursive=True):\n",
    "            match = pattern.match(filepath)\n",
    "            if match:\n",
    "                df = pd.read_csv(filepath)\n",
    "                if 'hate_watermarked_text_score' in df.columns:\n",
    "                    df['spoofing_watermarked_text_score'] = df['hate_watermarked_text_score']\n",
    "                if 'latter_spoofing_watermarked_text_score' not in df.columns:\n",
    "                    continue\n",
    "                df = df[['human_score', 'adaptive_watermarked_text_score', 'paraphrased_watermarked_text_score', 'spoofing_watermarked_text_score', 'latter_spoofing_watermarked_text_score']]\n",
    "                non_empty_indices = set(df.dropna().index)\n",
    "\n",
    "                if mutual_non_empty_indices is None:\n",
    "                    mutual_non_empty_indices = non_empty_indices\n",
    "                else:\n",
    "                    mutual_non_empty_indices = mutual_non_empty_indices.intersection(non_empty_indices)\n",
    "        for filepath in glob.iglob(baseline_root + \"/**/*.csv\", recursive=True):\n",
    "            match = baseline_pattern.match(filepath)\n",
    "            if match:\n",
    "                df = pd.read_csv(filepath)\n",
    "                df = df[['human_score', 'adaptive_watermarked_text_score', 'paraphrased_watermarked_text_score', 'spoofing_watermarked_text_score']]\n",
    "                non_empty_indices = set(df.dropna().index)\n",
    "                mutual_non_empty_indices = mutual_non_empty_indices.intersection(non_empty_indices)\n",
    "\n",
    "        # get roc-auc results of mutual non-empty rows\n",
    "        if mutual_non_empty_indices is not None:\n",
    "            mutual_non_empty_indices = list(mutual_non_empty_indices)\n",
    "            print(f'Number of mutual non-empty rows: {len(mutual_non_empty_indices)}')\n",
    "            for filepath in glob.iglob(root_path + \"/**/*.csv\", recursive=True):\n",
    "                match = pattern.match(filepath)\n",
    "                if match:\n",
    "                    df = pd.read_csv(filepath)\n",
    "                    if 'hate_watermarked_text_score' in df.columns:\n",
    "                        df['spoofing_watermarked_text_score'] = df['hate_watermarked_text_score']   \n",
    "                    if 'latter_spoofing_watermarked_text_score' not in df.columns:\n",
    "                        continue\n",
    "                    df = df[['human_score', 'adaptive_watermarked_text_score', 'paraphrased_watermarked_text_score', 'spoofing_watermarked_text_score', 'latter_spoofing_watermarked_text_score']]\n",
    "                    df = df.loc[mutual_non_empty_indices]\n",
    "                    auc_result_dict = get_auc(df)\n",
    "\n",
    "                    result_dict = {'train_dataset_name': train_dataset_name, 'wm_dataset_name': wm_dataset_name}\n",
    "                    result_dict.update(match.groupdict())\n",
    "                    result_dict.update(auc_result_dict)\n",
    "                    results.append(result_dict)\n",
    "\n",
    "            for filepath in glob.iglob(baseline_root + \"/**/*.csv\", recursive=True):\n",
    "                match = baseline_pattern.match(filepath)\n",
    "                if match:\n",
    "                    df = pd.read_csv(filepath)\n",
    "                    df = df[['human_score', 'adaptive_watermarked_text_score', 'paraphrased_watermarked_text_score', 'spoofing_watermarked_text_score']]\n",
    "                    df = df.loc[mutual_non_empty_indices]\n",
    "                    auc_result_dict = get_auc(df)\n",
    "                    baseline_result_dict = {'wm_dataset_name': wm_dataset_name}\n",
    "                    baseline_result_dict.update(match.groupdict())\n",
    "                    baseline_result_dict.update(auc_result_dict)\n",
    "                    baseline_results.append(baseline_result_dict)"
   ]
  },
  {
   "cell_type": "code",
   "execution_count": 6,
   "metadata": {},
   "outputs": [],
   "source": [
    "results = pd.DataFrame(results)\n",
    "results.to_csv(os.path.join(root_path, 'roc_auc_results.csv'), index=False)"
   ]
  },
  {
   "cell_type": "code",
   "execution_count": null,
   "metadata": {},
   "outputs": [],
   "source": [
    "baseline_results = pd.DataFrame(baseline_results)\n",
    "baseline_results.to_csv(os.path.join(root_path, 'baseline_roc_auc_results.csv'), index=False)"
   ]
  },
  {
   "cell_type": "code",
   "execution_count": 34,
   "metadata": {},
   "outputs": [
    {
     "name": "stdout",
     "output_type": "stream",
     "text": [
      "/blue/buyuheng/li_an.ucsb/projects/watermark-simcse/watermarking/util\n"
     ]
    }
   ],
   "source": [
    "!pwd"
   ]
  }
 ],
 "metadata": {
  "kernelspec": {
   "display_name": "Python 3",
   "language": "python",
   "name": "python3"
  },
  "language_info": {
   "codemirror_mode": {
    "name": "ipython",
    "version": 3
   },
   "file_extension": ".py",
   "mimetype": "text/x-python",
   "name": "python",
   "nbconvert_exporter": "python",
   "pygments_lexer": "ipython3",
   "version": "3.10.15"
  }
 },
 "nbformat": 4,
 "nbformat_minor": 2
}
