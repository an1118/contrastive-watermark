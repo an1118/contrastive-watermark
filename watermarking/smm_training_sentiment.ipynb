{
 "cells": [
  {
   "cell_type": "code",
   "execution_count": 1,
   "metadata": {},
   "outputs": [],
   "source": [
    "import os\n",
    "os.environ[\"CUDA_VISIBLE_DEVICES\"] = \"5\""
   ]
  },
  {
   "cell_type": "code",
   "execution_count": 2,
   "metadata": {},
   "outputs": [],
   "source": [
    "unchange_prompt = f'''Rewrite the following text by changing the wording but keeping all the facts exactly the same. The new version should match the original sentiment very closely, not just in positivity or negativity but also in the nuanced expression of emotions. Aim to minimize any changes that could alter the text's subtle tone, and ensure the paraphrased version is close in meaning to the original.'''\n",
    "negative_prompt = f'''Please modify the following text to reflect a more negative or aggressive tone. \\nRequirements: \\n- Add around <<num_words>> negative or aggressive words;\\n- Maintain the original structure as closely as possible;\\n- Shift the underlying implications to convey a more hostile attitude.'''\n",
    "positive_promt = f'''Please modify the following text to reflect a more positive, enthusiastic tone. \\nRequirements: \\n- Add or modify around <<num_words>> words; \\n- Maintain the original structure as closely as possible; \\n- Shift the language to convey excitement and optimism.'''\n",
    "\n",
    "prompts = {'unchange': unchange_prompt, 'negative': negative_prompt, 'positive': positive_promt}"
   ]
  },
  {
   "cell_type": "markdown",
   "metadata": {},
   "source": [
    "# Embedding Extraction"
   ]
  },
  {
   "cell_type": "markdown",
   "metadata": {},
   "source": [
    "## lfqa"
   ]
  },
  {
   "cell_type": "code",
   "execution_count": null,
   "metadata": {},
   "outputs": [],
   "source": [
    "import torch\n",
    "from transformers import AutoModel, AutoTokenizer\n",
    "import argparse\n",
    "import pandas as pd\n",
    "from datasets import load_dataset, Dataset\n",
    "from tqdm import tqdm\n",
    "from itertools import chain\n",
    "import numpy as np\n",
    "import os\n"
   ]
  },
  {
   "cell_type": "code",
   "execution_count": 2,
   "metadata": {},
   "outputs": [],
   "source": [
    "# def _sentiment_embedding(input_text, model, tokenizer, device):\n",
    "#     input_ids = tokenizer(input_text, return_tensors='pt', add_special_tokens=False, truncation=True, max_length=512).to(device)\n",
    "#     # last hidden states shape is [batch_size, sequence_length, hidden_size]\n",
    "#     # uses the hidden state of the [CLS] token (at index 0 along the sequence_length dimension)\n",
    "#     outputs = model(**input_ids, output_hidden_states=True)['hidden_states'][-1][:, 0, :].squeeze()\n",
    "#     return outputs\n",
    "\n",
    "def _sentiment_embedding(input_text, model, tokenizer, device):\n",
    "    input_ids = tokenizer(\n",
    "        input_text,\n",
    "        return_tensors='pt',\n",
    "        # add_special_tokens=False,\n",
    "        truncation=True,  # Truncate input to the model's max length\n",
    "        max_length=512    # Ensure the max length is 512 for RoBERTa\n",
    "    ).to(device)\n",
    "    # last hidden states shape is [batch_size, sequence_length, hidden_size]\n",
    "    with torch.no_grad():\n",
    "        outputs = model(**input_ids, output_hidden_states=True, return_dict=True)\n",
    "        # last_hidden = outputs.last_hidden_state\n",
    "        pooler_output = outputs.pooler_output.squeeze()\n",
    "    return pooler_output\n",
    "\n",
    "# def _sentiment_embedding(input_text, model, tokenizer, device):\n",
    "#     input_ids = tokenizer(\n",
    "#         input_text,\n",
    "#         return_tensors='pt',\n",
    "#         # add_special_tokens=False,\n",
    "#         truncation=True,  # Truncate input to the model's max length\n",
    "#         max_length=512    # Ensure the max length is 512 for RoBERTa\n",
    "#     ).to(device)\n",
    "#     # last hidden states shape is [batch_size, sequence_length, hidden_size]\n",
    "#     # uses the average hidden state of all tokens excluding special tokens\n",
    "#     last_hidden_state = model(**input_ids, output_hidden_states=True)['hidden_states'][-1]\n",
    "#     attention_mask = input_ids[\"attention_mask\"]\n",
    "#     special_tokens_mask = torch.tensor(\n",
    "#         tokenizer.get_special_tokens_mask(input_ids[\"input_ids\"][0].tolist(), already_has_special_tokens=True)\n",
    "#     ).unsqueeze(0).cuda()\n",
    "#     valid_token_mask = (attention_mask == 1) & (special_tokens_mask == 0)\n",
    "#     valid_embeddings = last_hidden_state[valid_token_mask]\n",
    "#     average_embedding = valid_embeddings.mean(dim=0)\n",
    "#     return average_embedding\n"
   ]
  },
  {
   "cell_type": "code",
   "execution_count": null,
   "metadata": {},
   "outputs": [],
   "source": [
    "device = torch.device('cuda' if torch.cuda.is_available() else 'cpu')\n",
    "\n",
    "# sentiment_model_name = r\"/mnt/data2/lian/projects/watermark/SimCSE/result/my-sup-simcse-roberta-base-2gpu-64batch/checkpoint-epoch1\"\n",
    "sentiment_model_name = r\"/mnt/data2/lian/projects/watermark/SimCSE/result/my-sup-simcse-roberta-base-sentiment/checkpoint-125\"\n",
    "sentiment_model = AutoModel.from_pretrained(sentiment_model_name)\n",
    "sentiment_tokenizer = AutoTokenizer.from_pretrained(sentiment_model_name)\n",
    "state_dict = torch.load(f'{sentiment_model_name}/pytorch_model.bin')\n",
    "sentiment_model.pooler.dense.weight.data = state_dict['mlp.dense.weight'].clone()\n",
    "sentiment_model.pooler.dense.bias.data = state_dict['mlp.dense.bias'].clone()\n",
    "sentiment_model = sentiment_model.to(device)\n",
    "sentiment_model.eval()\n",
    "\n",
    "data_path = '/mnt/data2/lian/projects/watermark/data/lfqa_train.csv'\n",
    "original_data = pd.read_csv(data_path)\n",
    "# group rows with the same values in 'sent0' together by sorting\n",
    "original_data = original_data.sort_values(by='sent0', ascending=True) \n",
    "original_data = original_data.reset_index(drop=True)\n",
    "\n",
    "orig_text = original_data['sent0'].tolist()\n",
    "para_text = original_data['sent1'].tolist()\n",
    "neg_text = original_data['hard_neg'].tolist()\n",
    "\n",
    "orig_data = Dataset.from_dict({'text': orig_text})\n",
    "para_data = Dataset.from_dict({'text': para_text})\n",
    "neg_data = Dataset.from_dict({'text': neg_text})\n",
    "\n",
    "orig_embedding_list = []\n",
    "para_embedding_list = []\n",
    "neg_embedding_list = []\n",
    "\n",
    "for i in tqdm(range(orig_data.num_rows)):\n",
    "    orig_embedding_list.append(_sentiment_embedding(orig_data[i]['text'], sentiment_model, sentiment_tokenizer, device).unsqueeze(0).detach().cpu().numpy())\n",
    "    para_embedding_list.append(_sentiment_embedding(para_data[i]['text'], sentiment_model, sentiment_tokenizer, device).unsqueeze(0).detach().cpu().numpy())\n",
    "    neg_embedding_list.append(_sentiment_embedding(neg_data[i]['text'], sentiment_model, sentiment_tokenizer, device).unsqueeze(0).detach().cpu().numpy())\n",
    "\n",
    "orig_embeddings = np.vstack(orig_embedding_list)\n",
    "para_embeddings = np.vstack(para_embedding_list)\n",
    "neg_embeddings = np.vstack(neg_embedding_list)\n",
    "\n",
    "save_path = os.path.join('data', f'{sentiment_model_name.split(\"/\")[-2]}', 'dense_output')\n",
    "os.makedirs(save_path, exist_ok=True)\n",
    "np.savetxt(os.path.join(save_path, 'orig_embeddings_sc.text'), orig_embeddings, delimiter=\" \")\n",
    "np.savetxt(os.path.join(save_path, 'para_embeddings_sc.text'), para_embeddings, delimiter=\" \")\n",
    "np.savetxt(os.path.join(save_path, 'neg_embeddings_sc.text'), neg_embeddings, delimiter=\" \")\n"
   ]
  },
  {
   "cell_type": "markdown",
   "metadata": {},
   "source": [
    "Construct evaluation set"
   ]
  },
  {
   "cell_type": "code",
   "execution_count": null,
   "metadata": {},
   "outputs": [],
   "source": [
    "device = torch.device('cuda' if torch.cuda.is_available() else 'cpu')\n",
    "# sentiment_model_name = r\"/mnt/data2/lian/projects/watermark/SimCSE/result/my-sup-simcse-roberta-base-2gpu-64batch/checkpoint-epoch1\"\n",
    "sentiment_model_name = r\"/mnt/data2/lian/projects/watermark/SimCSE/result/my-sup-simcse-roberta-base-sentiment/checkpoint-125\"\n",
    "sentiment_model = AutoModel.from_pretrained(sentiment_model_name)\n",
    "sentiment_tokenizer = AutoTokenizer.from_pretrained(sentiment_model_name)\n",
    "state_dict = torch.load(f'{sentiment_model_name}/pytorch_model.bin')\n",
    "sentiment_model.pooler.dense.weight.data = state_dict['mlp.dense.weight'].clone()\n",
    "sentiment_model.pooler.dense.bias.data = state_dict['mlp.dense.bias'].clone()\n",
    "sentiment_model = sentiment_model.to(device)\n",
    "sentiment_model.eval()\n",
    "\n",
    "data_path = '/mnt/data2/lian/projects/watermark/data/lfqa_test_final.csv'\n",
    "original_data = pd.read_csv(data_path)\n",
    "\n",
    "orig_text = original_data['text'].tolist()\n",
    "para_text = original_data['unchange_paraphrase'].tolist()\n",
    "neg_text = original_data['negative_paraphrase'].tolist()\n",
    "\n",
    "orig_data = Dataset.from_dict({'text': orig_text})\n",
    "para_data = Dataset.from_dict({'text': para_text})\n",
    "neg_data = Dataset.from_dict({'text': neg_text})\n",
    "\n",
    "orig_embedding_list = []\n",
    "para_embedding_list = []\n",
    "neg_embedding_list = []\n",
    "\n",
    "for i in tqdm(range(orig_data.num_rows)):\n",
    "    orig_embedding_list.append(_sentiment_embedding(orig_data[i]['text'], sentiment_model, sentiment_tokenizer, device).unsqueeze(0).detach().cpu().numpy())\n",
    "    para_embedding_list.append(_sentiment_embedding(para_data[i]['text'], sentiment_model, sentiment_tokenizer, device).unsqueeze(0).detach().cpu().numpy())\n",
    "    neg_embedding_list.append(_sentiment_embedding(neg_data[i]['text'], sentiment_model, sentiment_tokenizer, device).unsqueeze(0).detach().cpu().numpy())\n",
    "\n",
    "orig_embeddings = np.vstack(orig_embedding_list)\n",
    "para_embeddings = np.vstack(para_embedding_list)\n",
    "neg_embeddings = np.vstack(neg_embedding_list)\n",
    "\n",
    "os.makedirs(os.path.join(save_path, 'valid'), exist_ok=True)\n",
    "np.savetxt(os.path.join(save_path, 'valid', 'orig_embeddings_sc.text'), orig_embeddings, delimiter=\" \")\n",
    "np.savetxt(os.path.join(save_path, 'valid', 'para_embeddings_sc.text'), para_embeddings, delimiter=\" \")\n",
    "np.savetxt(os.path.join(save_path, 'valid', 'neg_embeddings_sc.text'), neg_embeddings, delimiter=\" \")\n"
   ]
  },
  {
   "cell_type": "markdown",
   "metadata": {},
   "source": [
    "# Training"
   ]
  },
  {
   "cell_type": "code",
   "execution_count": 3,
   "metadata": {},
   "outputs": [
    {
     "name": "stdout",
     "output_type": "stream",
     "text": [
      "Namespace(orig_input_file='orig_embeddings_sc.text', para_input_file='para_embeddings_sc.text', neg_input_file='neg_embeddings_sc.text', output_model='transform_model_1.pth', epochs=500, lr=1e-05, input_dim=768)\n"
     ]
    }
   ],
   "source": [
    "import torch\n",
    "import torch.nn as nn\n",
    "import torch.optim as optim\n",
    "from torch.utils.data import DataLoader, Dataset, Subset, ConcatDataset\n",
    "import numpy as np\n",
    "import os\n",
    "import argparse\n",
    "from torch.optim import lr_scheduler\n",
    "from torch.autograd import Variable\n",
    "\n",
    "device = torch.device(\"cuda\" if torch.cuda.is_available() else \"cpu\")\n",
    "\n",
    "\n",
    "class ResidualBlock(nn.Module):\n",
    "    def __init__(self, dim):\n",
    "        super(ResidualBlock, self).__init__()\n",
    "        self.fc = nn.Linear(dim, dim)\n",
    "        self.relu = nn.ReLU()\n",
    "\n",
    "    def forward(self, x):\n",
    "        out = self.fc(x)\n",
    "        out = self.relu(out)\n",
    "        out = out + x \n",
    "        return out\n",
    "\n",
    "class TransformModel(nn.Module):\n",
    "    def __init__(self, num_layers=4, input_dim=768, hidden_dim=512, output_dim=384):\n",
    "        super(TransformModel, self).__init__()\n",
    "        \n",
    "        self.layers = nn.ModuleList()\n",
    "        \n",
    "        self.layers.append(nn.Linear(input_dim, hidden_dim))\n",
    "        \n",
    "        for _ in range(num_layers - 2):\n",
    "            self.layers.append(ResidualBlock(hidden_dim))\n",
    "\n",
    "        self.layers.append(nn.Linear(hidden_dim, output_dim))\n",
    "\n",
    "    def forward(self, x):\n",
    "        for i in range(len(self.layers)):\n",
    "            x = self.layers[i](x)\n",
    "        return x\n",
    "\n",
    "class VectorDataset(Dataset):\n",
    "    def __init__(self, vectors):\n",
    "        self.vectors = vectors\n",
    "    \n",
    "    def __len__(self):\n",
    "        return len(self.vectors)\n",
    "    \n",
    "    def __getitem__(self, idx):\n",
    "        return self.vectors[idx]\n",
    "\n",
    "\n",
    "def sequence_similarity(x, y):\n",
    "    # euclidean distance\n",
    "    matches = torch.sqrt(torch.sum((x-y)**2, dim=-1))\n",
    "    return matches\n",
    "\n",
    "def sign_loss(x, factor):\n",
    "    smooth_sign = torch.tanh(x*factor)\n",
    "    row = torch.abs(torch.mean(torch.mean(smooth_sign, dim=0)))\n",
    "    col = torch.abs(torch.mean(torch.mean(smooth_sign, dim=1)))\n",
    "    return (row + col)/2\n",
    "\n",
    "def loss_fn(\n",
    "        output_a, \n",
    "        output_b, \n",
    "        input_a, \n",
    "        input_b, \n",
    "        output_a_para, \n",
    "        output_a_neg,\n",
    "        lambda_1,\n",
    "        lambda_2,\n",
    "        lambda_3,\n",
    "        lambda_4,\n",
    "        ):\n",
    "    \n",
    "    s = sequence_similarity(input_a, input_b)\n",
    "    t_s = sequence_similarity(output_a, output_b)\n",
    "\n",
    "    min_orig, max_orig, min_new, max_new = 0, 2, -2, 4\n",
    "    s = (s - min_orig) / (max_orig - min_orig) * (max_new - min_new) + min_new\n",
    "\n",
    "    loss_1 = torch.abs(s - t_s).mean()\n",
    "    loss_2 = (sign_loss(output_a, 1000) + sign_loss(output_b, 1000))/2\n",
    "    loss_3 = torch.abs(sequence_similarity(output_a, output_a_para)).mean()\n",
    "    loss_4 = -torch.abs(sequence_similarity(output_a, output_a_neg)).mean()\n",
    "    \n",
    "    total_loss = lambda_1*loss_1 + lambda_2*loss_2 + lambda_3*loss_3 + lambda_4*torch.clamp(loss_4, min=-4)\n",
    "    \n",
    "    if lambda_4 == 0:\n",
    "        loss_4 = None\n",
    "    return total_loss, loss_1, loss_2, loss_3 , loss_4\n",
    "\n",
    "def normalize_array(array):\n",
    "    row_norms = np.linalg.norm(array, axis=1, keepdims=True)\n",
    "    assert np.all(row_norms > 0), \"There are rows with zero norm in the array!\"\n",
    "    array_norm = array / row_norms\n",
    "    return array_norm\n",
    "\n",
    "def parser(args=None):\n",
    "    parser = argparse.ArgumentParser(description=\"Train watermark model\")\n",
    "    parser.add_argument(\"--orig_input_file\", type=str, default=\"orig_embeddings_sc.text\")\n",
    "    parser.add_argument(\"--para_input_file\", type=str, default=\"para_embeddings_sc.text\")\n",
    "    parser.add_argument(\"--neg_input_file\", type=str, default=\"neg_embeddings_sc.text\")\n",
    "    parser.add_argument(\"--output_model\", type=str, default=\"transform_model.pth\")\n",
    "    parser.add_argument(\"--epochs\", type=int, default=1000)\n",
    "    parser.add_argument(\"--lr\", type=float, default=1e-5)\n",
    "    parser.add_argument(\"--input_dim\", type=int, default=768)\n",
    "\n",
    "    args = parser.parse_args(args=args)\n",
    "    return args\n",
    "\n",
    "\n",
    "DATA_DIR = r\"data/my-sup-simcse-roberta-base-sentiment/dense_output\"\n",
    "MODEL_DIR = \"model/my-sup-simcse-roberta-base-sentiment/dense_output\"\n",
    "os.makedirs(MODEL_DIR, exist_ok=True)\n",
    "\n",
    "args = parser(['--epochs', '500',\n",
    "               '--lr', '1e-5',\n",
    "               '--output_model', 'transform_model_1.pth'])\n",
    "print(args)\n"
   ]
  },
  {
   "cell_type": "code",
   "execution_count": 3,
   "metadata": {},
   "outputs": [],
   "source": [
    "def data_prepare(args, data_dir):\n",
    "    orig_embedding_file = os.path.join(data_dir, args.orig_input_file)\n",
    "    para_embedding_file = os.path.join(data_dir, args.para_input_file)\n",
    "    neg_embedding_file = os.path.join(data_dir, args.neg_input_file)\n",
    "    \n",
    "    orig_embedding_data = np.loadtxt(orig_embedding_file)\n",
    "    para_embedding_data = np.loadtxt(para_embedding_file)\n",
    "    neg_embedding_data = np.loadtxt(neg_embedding_file)\n",
    "\n",
    "    # Normalize\n",
    "    orig_embedding_data_norm = normalize_array(orig_embedding_data)\n",
    "    para_embedding_data_norm = normalize_array(para_embedding_data)\n",
    "    neg_embedding_data_norm = normalize_array(neg_embedding_data)\n",
    "\n",
    "    total_data = orig_embedding_data_norm.shape[0]\n",
    "    orig_embedding_data_norm = orig_embedding_data_norm[:total_data//2*2]\n",
    "\n",
    "    orig_data_1 = torch.tensor(orig_embedding_data_norm[:total_data//2], device='cuda', dtype=torch.float32)\n",
    "    orig_data_2 = torch.tensor(orig_embedding_data_norm[total_data//2:], device='cuda', dtype=torch.float32)\n",
    "    para_data = torch.tensor(para_embedding_data_norm[:total_data//2], device='cuda', dtype=torch.float32)\n",
    "    neg_data = torch.tensor(neg_embedding_data_norm[:total_data//2], device='cuda', dtype=torch.float32)\n",
    "\n",
    "    orig_dataset_1 = VectorDataset(orig_data_1)\n",
    "    orig_dataset_2 = VectorDataset(orig_data_2)\n",
    "    para_dataset = VectorDataset(para_data)\n",
    "    neg_dataset = VectorDataset(neg_data)\n",
    "\n",
    "    orig_dataloader_1 = DataLoader(orig_dataset_1, batch_size=128, shuffle=False)\n",
    "    orig_dataloader_2 = DataLoader(orig_dataset_2, batch_size=128, shuffle=False)\n",
    "    para_dataloader = DataLoader(para_dataset, batch_size=128, shuffle=False)\n",
    "    neg_dataloader = DataLoader(neg_dataset, batch_size=128, shuffle=False)\n",
    "\n",
    "    return orig_dataloader_1, orig_dataloader_2, para_dataloader, neg_dataloader\n",
    "\n",
    "orig_dataloader_1, orig_dataloader_2, para_dataloader, neg_dataloader = data_prepare(args, DATA_DIR)\n",
    "valid_orig_dataloader_1, valid_orig_dataloader_2, valid_para_dataloader, valid_neg_dataloader = data_prepare(args, os.path.join(DATA_DIR, 'valid'))"
   ]
  },
  {
   "cell_type": "markdown",
   "metadata": {},
   "source": [
    "## Train from scratch"
   ]
  },
  {
   "cell_type": "code",
   "execution_count": 9,
   "metadata": {},
   "outputs": [],
   "source": [
    "def print_loss(loss, loss_1, loss_2, loss_3, loss_4):\n",
    "    output = f\"Loss: {round(loss, 4)}, Loss_1: {round(loss_1, 2)}, Loss_2: {round(loss_2, 2)}, Loss_3: {round(loss_3, 2)}\"\n",
    "    if loss_4:\n",
    "        output += f\", Loss_4: {round(loss_4, 2)}\"\n",
    "    return output"
   ]
  },
  {
   "cell_type": "code",
   "execution_count": null,
   "metadata": {},
   "outputs": [],
   "source": [
    "epochs = 500\n",
    "lr=5e-4\n",
    "step_size=500\n",
    "weight_decay=1e-4\n",
    "lambda_1, lambda_2, lambda_3, lambda_4 = 1.0, 1.0, 3.0, 0.0\n",
    "\n",
    "model = TransformModel(input_dim=args.input_dim).to(device)\n",
    "optimizer = optim.SGD(model.parameters(), lr=lr, weight_decay=weight_decay)\n",
    "scheduler = lr_scheduler.StepLR(optimizer, step_size=step_size, gamma=0.8)\n",
    "\n",
    "best_val_loss, best_val_loss_1, best_val_loss_2, best_val_loss_3, best_val_loss_4 = float('inf'), 0, 0, 0, 0  # Initialize the best validation loss to infinity\n",
    "best_val_epoch = 0\n",
    "loss_name = '4loss' if lambda_4 != 0.0 else '3loss'\n",
    "os.makedirs(os.path.join(MODEL_DIR, f\"{loss_name}\", \"scratch\"), exist_ok=True)\n",
    "best_model_path = os.path.join(MODEL_DIR, f\"{loss_name}\", \"scratch\", \"best_model.pth\")  # lambda{lambda_1}|{lambda_2}|{lambda_3}|{lambda_4}_lr{lr}_\n",
    "final_model_path = os.path.join(MODEL_DIR, f\"{loss_name}\", \"scratch\", \"final_model.pth\")\n",
    "\n",
    "for epoch in range(epochs):\n",
    "    model.train()\n",
    "    orig_iter_1 = iter(orig_dataloader_1)\n",
    "    orig_iter_2 = iter(orig_dataloader_2)\n",
    "    para_iter = iter(para_dataloader)\n",
    "    neg_iter = iter(neg_dataloader)\n",
    "\n",
    "    for _ in range(len(orig_dataloader_1)):\n",
    "        input_a = next(orig_iter_1).to(device)\n",
    "        input_b = next(orig_iter_2).to(device)\n",
    "        input_c = next(para_iter).to(device)\n",
    "        input_d = next(neg_iter).to(device)\n",
    "\n",
    "        output_a = model(input_a)\n",
    "        output_b = model(input_b)\n",
    "        output_c = model(input_c)\n",
    "        output_d = model(input_d)\n",
    "\n",
    "        loss, loss_1, loss_2, loss_3, loss_4 = loss_fn(output_a, output_b, input_a, input_b, output_c, output_d, lambda_1, lambda_2, lambda_3, lambda_4)\n",
    "\n",
    "        optimizer.zero_grad()\n",
    "        loss.backward()\n",
    "        optimizer.step()\n",
    "        if _ % 100 == 0:\n",
    "            loss_4_ = loss_4.item() if loss_4 else None\n",
    "            print(f\"Epoch [{epoch + 1}/{epochs}], Step [{_ + 1}/{len(orig_dataloader_1)}], {print_loss(loss.item(), loss_1.item(), loss_2.item(), loss_3.item(), loss_4_)}\")\n",
    "            \n",
    "    # Validation step\n",
    "    model.eval()  # Set model to evaluation mode\n",
    "    with torch.no_grad():\n",
    "        num_batches = 0\n",
    "        total_loss, total_loss_1, total_loss_2, total_loss_3, total_loss_4 = 0, 0, 0, 0, 0\n",
    "\n",
    "        for (input_a, input_b, para, neg) in zip(\n",
    "            valid_orig_dataloader_1, valid_orig_dataloader_2, valid_para_dataloader, valid_neg_dataloader\n",
    "        ):\n",
    "            input_a, input_b = input_a.to(device), input_b.to(device)\n",
    "            para, neg = para.to(device), neg.to(device)\n",
    "\n",
    "            output_a = model(input_a)\n",
    "            output_b = model(input_b)\n",
    "            output_a_para = model(para)\n",
    "            output_a_neg = model(neg)\n",
    "\n",
    "            loss, loss_1, loss_2, loss_3, loss_4 = loss_fn(\n",
    "                output_a, output_b, input_a, input_b, output_a_para, output_a_neg,\n",
    "                lambda_1, lambda_2, lambda_3, lambda_4\n",
    "            )\n",
    "\n",
    "            total_loss += loss.item()\n",
    "            total_loss_1 += loss_1.item()\n",
    "            total_loss_2 += loss_2.item()\n",
    "            total_loss_3 += loss_3.item()\n",
    "            if loss_4:\n",
    "                total_loss_4 += loss_4.item()\n",
    "            num_batches += 1\n",
    "\n",
    "        avg_val_loss = total_loss / num_batches\n",
    "        avg_val_loss_1 = total_loss_1 / num_batches\n",
    "        avg_val_loss_2 = total_loss_2 / num_batches\n",
    "        avg_val_loss_3 = total_loss_3 / num_batches\n",
    "        avg_val_loss_4 = total_loss_4 / num_batches\n",
    "        print(f\"Validation {print_loss(avg_val_loss, avg_val_loss_1, avg_val_loss_2, avg_val_loss_3, avg_val_loss_4)}\")\n",
    "\n",
    "        # Save the model if it's the best so far\n",
    "        if avg_val_loss < best_val_loss:\n",
    "            best_val_loss, best_val_loss_1, best_val_loss_2, best_val_loss_3, best_val_loss_4 = avg_val_loss, avg_val_loss_1, avg_val_loss_2, avg_val_loss_3, avg_val_loss_4\n",
    "            best_val_epoch = epoch\n",
    "            torch.save(model.state_dict(), best_model_path)\n",
    "            print(f\"New best model saved with validation loss: {best_val_loss}\")\n",
    "\n",
    "    scheduler.step()  # Update the learning rate if using a scheduler\n",
    "\n",
    "torch.save(model.state_dict(), final_model_path)\n",
    "print(f\"Training complete. Final model saved at: {final_model_path}\")\n",
    "print(f\"Best validation appeared at epoch {best_val_epoch}, {print_loss(best_val_loss, best_val_loss_1, best_val_loss_2, best_val_loss_3, best_val_loss_4)}\")\n"
   ]
  },
  {
   "cell_type": "markdown",
   "metadata": {},
   "source": [
    "roberta-base-sentiment; dense output\n",
    "\n",
    "**3** loss; train from scratch\n",
    "\n",
    "best hyper-parameter:\n",
    "\n",
    "epochs = 500\n",
    "\n",
    "lr=5e-4\n",
    "\n",
    "step_size=500\n",
    "\n",
    "weight_decay=1e-4\n",
    "\n",
    "lambda_1, lambda_2, lambda_3, lambda_4 = 1.0, 1.0, 3.0, 0.0\n",
    "\n",
    "scheduler = lr_scheduler.StepLR(optimizer, step_size=step_size, gamma=0.8)\n",
    "\n",
    "Best validation appeared at epoch 499, Loss: 1.4477, Loss_1: 1.05, Loss_2: 0.01, Loss_3: 0.13\n"
   ]
  },
  {
   "cell_type": "markdown",
   "metadata": {},
   "source": [
    "roberta-base-sentiment; dense output\n",
    "\n",
    "**4** loss; train from scratch\n",
    "\n",
    "best hyper-parameter:\n",
    "\n",
    "epochs = 500\n",
    "\n",
    "lr=1e-4\n",
    "\n",
    "step_size=500\n",
    "\n",
    "weight_decay=1e-4\n",
    "\n",
    "lambda_1, lambda_2, lambda_3, lambda_4 = 1.0, 1.0, 2.0, 0.5\n",
    "\n",
    "scheduler = lr_scheduler.StepLR(optimizer, step_size=step_size, gamma=0.8)\n",
    "\n",
    "Best validation appeared at epoch 499, Loss: 0.8471, Loss_1: 1.1, Loss_2: 0.01, Loss_3: 0.16, Loss_4: -1.16\n"
   ]
  },
  {
   "cell_type": "markdown",
   "metadata": {},
   "source": [
    "## Fineturn + Evaluate"
   ]
  },
  {
   "cell_type": "code",
   "execution_count": 33,
   "metadata": {},
   "outputs": [],
   "source": [
    "def print_loss(loss, loss_1, loss_2, loss_3, loss_4):\n",
    "    output = f\"Loss: {round(loss, 4)}, Loss_1: {round(loss_1, 2)}, Loss_2: {round(loss_2, 2)}, Loss_3: {round(loss_3, 2)}\"\n",
    "    if loss_4:\n",
    "        output += f\", Loss_4: {round(loss_4, 2)}\"\n",
    "    return output"
   ]
  },
  {
   "cell_type": "code",
   "execution_count": null,
   "metadata": {},
   "outputs": [],
   "source": [
    "epochs = 500\n",
    "lr=1e-4\n",
    "step_size=500\n",
    "weight_decay=1e-4\n",
    "lambda_1, lambda_2, lambda_3, lambda_4 = 1.0, 1.0, 2.0, 0.5\n",
    "\n",
    "model = TransformModel(input_dim=args.input_dim).to(device)\n",
    "optimizer = optim.SGD(model.parameters(), lr=lr, weight_decay=weight_decay)\n",
    "scheduler = lr_scheduler.StepLR(optimizer, step_size=step_size, gamma=0.5)\n",
    "\n",
    "pretrained_path = r'/mnt/data2/lian/projects/watermark/adaptive-text-watermark-yepeng/model/semantic_mapping_model.pth'\n",
    "model.load_state_dict(torch.load(pretrained_path, map_location=device))\n",
    "\n",
    "best_val_loss, best_val_loss_1, best_val_loss_2, best_val_loss_3, best_val_loss_4 = float('inf'), 0, 0, 0, 0  # Initialize the best validation loss to infinity\n",
    "best_val_epoch = 0\n",
    "loss_name = '4loss' if lambda_4 != 0.0 else '3loss'\n",
    "os.makedirs(os.path.join(MODEL_DIR, f\"{loss_name}\", \"finetune\"), exist_ok=True)\n",
    "best_model_path = os.path.join(MODEL_DIR, f\"{loss_name}\", \"finetune\", \"best_model.pth\")  # lambda{lambda_1}|{lambda_2}|{lambda_3}|{lambda_4}_lr{lr}_\n",
    "final_model_path = os.path.join(MODEL_DIR, f\"{loss_name}\", \"finetune\", \"final_model.pth\")\n",
    "\n",
    "for epoch in range(epochs):\n",
    "    model.train()  # Set model to training mode\n",
    "    orig_iter_1 = iter(orig_dataloader_1)\n",
    "    orig_iter_2 = iter(orig_dataloader_2)\n",
    "    para_iter = iter(para_dataloader)\n",
    "    neg_iter = iter(neg_dataloader)\n",
    "\n",
    "    for _ in range(len(orig_dataloader_1)):\n",
    "        input_a = next(orig_iter_1).to(device)\n",
    "        input_b = next(orig_iter_2).to(device)\n",
    "        input_c = next(para_iter).to(device)\n",
    "        input_d = next(neg_iter).to(device)\n",
    "\n",
    "        output_a = model(input_a)\n",
    "        output_b = model(input_b)\n",
    "        output_c = model(input_c)\n",
    "        output_d = model(input_d)\n",
    "\n",
    "        loss, loss_1, loss_2, loss_3, loss_4 = loss_fn(output_a, output_b, input_a, input_b, output_c, output_d, lambda_1, lambda_2, lambda_3, lambda_4)\n",
    "\n",
    "        optimizer.zero_grad()\n",
    "        loss.backward()\n",
    "        optimizer.step()\n",
    "        if _ % 100 == 0:\n",
    "            loss_4_ = loss_4.item() if loss_4 else None\n",
    "            print(f\"Epoch [{epoch + 1}/{epochs}], Step [{_ + 1}/{len(orig_dataloader_1)}], {print_loss(loss.item(), loss_1.item(), loss_2.item(), loss_3.item(), loss_4_)}\")\n",
    "\n",
    "    # Validation step\n",
    "    model.eval()  # Set model to evaluation mode\n",
    "    with torch.no_grad():\n",
    "        num_batches = 0\n",
    "        total_loss, total_loss_1, total_loss_2, total_loss_3, total_loss_4 = 0, 0, 0, 0, 0\n",
    "\n",
    "        for (input_a, input_b, para, neg) in zip(\n",
    "            valid_orig_dataloader_1, valid_orig_dataloader_2, valid_para_dataloader, valid_neg_dataloader\n",
    "        ):\n",
    "            input_a, input_b = input_a.to(device), input_b.to(device)\n",
    "            para, neg = para.to(device), neg.to(device)\n",
    "\n",
    "            output_a = model(input_a)\n",
    "            output_b = model(input_b)\n",
    "            output_a_para = model(para)\n",
    "            output_a_neg = model(neg)\n",
    "\n",
    "            loss, loss_1, loss_2, loss_3, loss_4 = loss_fn(\n",
    "                output_a, output_b, input_a, input_b, output_a_para, output_a_neg,\n",
    "                lambda_1, lambda_2, lambda_3, lambda_4\n",
    "            )\n",
    "\n",
    "            total_loss += loss.item()\n",
    "            total_loss_1 += loss_1.item()\n",
    "            total_loss_2 += loss_2.item()\n",
    "            total_loss_3 += loss_3.item()\n",
    "            if loss_4:\n",
    "                total_loss_4 += loss_4.item()\n",
    "            num_batches += 1\n",
    "\n",
    "        avg_val_loss = total_loss / num_batches\n",
    "        avg_val_loss_1 = total_loss_1 / num_batches\n",
    "        avg_val_loss_2 = total_loss_2 / num_batches\n",
    "        avg_val_loss_3 = total_loss_3 / num_batches\n",
    "        avg_val_loss_4 = total_loss_4 / num_batches\n",
    "        print(f\"Validation {print_loss(avg_val_loss, avg_val_loss_1, avg_val_loss_2, avg_val_loss_3, avg_val_loss_4)}\")\n",
    "\n",
    "        # Save the model if it's the best so far\n",
    "        if avg_val_loss < best_val_loss:\n",
    "            best_val_loss, best_val_loss_1, best_val_loss_2, best_val_loss_3, best_val_loss_4 = avg_val_loss, avg_val_loss_1, avg_val_loss_2, avg_val_loss_3, avg_val_loss_4\n",
    "            best_val_epoch = epoch\n",
    "            torch.save(model.state_dict(), best_model_path)\n",
    "            print(f\"New best model saved with validation loss: {best_val_loss}\")\n",
    "\n",
    "    scheduler.step()  # Update the learning rate if using a scheduler\n",
    "\n",
    "# Save the final model\n",
    "torch.save(model.state_dict(), final_model_path)\n",
    "print(f\"Training complete. Final model saved at: {final_model_path}\")\n",
    "print(f\"Best validation appeared at epoch {best_val_epoch}, {print_loss(best_val_loss, best_val_loss_1, best_val_loss_2, best_val_loss_3, best_val_loss_4)}\")\n"
   ]
  },
  {
   "cell_type": "markdown",
   "metadata": {},
   "source": [
    "roberta-base-sentiment; dense output\n",
    "\n",
    "**4** loss; finetune\n",
    "\n",
    "best hyper-parameter:\n",
    "\n",
    "epochs = 500\n",
    "\n",
    "lr=1e-4\n",
    "\n",
    "step_size=500\n",
    "\n",
    "weight_decay=1e-4\n",
    "\n",
    "lambda_1, lambda_2, lambda_3, lambda_4 = 1.0, 1.0, 2.0, 0.5\n",
    "\n",
    "scheduler = lr_scheduler.StepLR(optimizer, step_size=step_size, gamma=0.8)\n",
    "\n",
    "Best validation appeared at epoch 499, Loss: 1.0305, Loss_1: 1.17, Loss_2: 0.01, Loss_3: 0.14, Loss_4: -1.02\n",
    "\n"
   ]
  },
  {
   "cell_type": "markdown",
   "metadata": {},
   "source": [
    "roberta-base-sentiment; dense output\n",
    "\n",
    "**3** loss; finetune\n",
    "\n",
    "best hyper-parameter:\n",
    "\n",
    "epochs = 500\n",
    "\n",
    "lr=3e-4\n",
    "\n",
    "step_size=500\n",
    "\n",
    "weight_decay=1e-5\n",
    "\n",
    "lambda_1, lambda_2, lambda_3, lambda_4 = 1.0, 1.0, 1.0, 0.0\n",
    "\n",
    "scheduler = lr_scheduler.StepLR(optimizer, step_size=step_size, gamma=0.8)\n",
    "\n",
    "Best validation appeared at epoch 498, Loss: 1.302, Loss_1: 1.13, Loss_2: 0.01, Loss_3: 0.16\n"
   ]
  },
  {
   "cell_type": "markdown",
   "metadata": {},
   "source": [
    "**Best 3 loss results:**\n",
    "\n",
    "epochs = 500\n",
    "\n",
    "lr=1e-3\n",
    "\n",
    "step_size=100\n",
    "\n",
    "weight_decay=1e-3\n",
    "\n",
    "lambda_1, lambda_2, lambda_3, lambda_4 = 2.0, 1.0, 1.0, 0\n",
    "\n",
    "scheduler = lr_scheduler.StepLR(optimizer, step_size=step_size, gamma=0.5)\n",
    "\n",
    "Best validation appeared at epoch 498, Loss: 1.0072, Loss_1: 0.41, Loss_2: 0.03, Loss_3: 0.16\n"
   ]
  },
  {
   "cell_type": "markdown",
   "metadata": {},
   "source": [
    "**Best 4 loss results:**\n",
    "\n",
    "epochs = 500\n",
    "\n",
    "lr=1e-3\n",
    "\n",
    "step_size=70\n",
    "\n",
    "weight_decay=1e-3\n",
    "\n",
    "lambda_1, lambda_2, lambda_3, lambda_4 = 2.0, 1.0, 2.0, 0.5\n",
    "\n",
    "scheduler = lr_scheduler.StepLR(optimizer, step_size=step_size, gamma=0.5)\n",
    "\n",
    "Best validation appeared at epoch 498, Loss: 0.2527, Loss_1: 0.65, Loss_2: 0.01, Loss_3: 0.43, Loss_4: -3.82\n",
    "\n"
   ]
  },
  {
   "cell_type": "markdown",
   "metadata": {},
   "source": [
    "# Exploration"
   ]
  },
  {
   "cell_type": "code",
   "execution_count": null,
   "metadata": {},
   "outputs": [],
   "source": [
    "ori_mins, ori_maxs= [], []\n",
    "\n",
    "orig_iter_1 = iter(orig_dataloader_1)\n",
    "orig_iter_2 = iter(orig_dataloader_2)\n",
    "\n",
    "for _ in range(len(orig_dataloader_1)):\n",
    "    input_a = next(orig_iter_1).to(device)\n",
    "    input_b = next(orig_iter_2).to(device)\n",
    "\n",
    "    s = sequence_similarity(input_a, input_b)\n",
    "    ori_maxs.append(s.max().item())\n",
    "    ori_mins.append(s.min().item())\n",
    "\n",
    "print('original min:', min(ori_mins), 'max:', max(ori_maxs))"
   ]
  },
  {
   "cell_type": "code",
   "execution_count": null,
   "metadata": {},
   "outputs": [],
   "source": [
    "import pandas as pd\n",
    "data_path = '/mnt/data2/lian/projects/watermark/data/lfqa_train.csv'\n",
    "original_data = pd.read_csv(data_path)\n",
    "\n",
    "original_data['sent0'].unique().shape"
   ]
  },
  {
   "cell_type": "code",
   "execution_count": null,
   "metadata": {},
   "outputs": [],
   "source": [
    "original_data.shape"
   ]
  },
  {
   "cell_type": "code",
   "execution_count": null,
   "metadata": {},
   "outputs": [],
   "source": [
    "import pandas as pd\n",
    "data_path = '/mnt/data2/lian/projects/watermark/data/lfqa_train.csv'\n",
    "original_data = pd.read_csv(data_path)\n",
    "\n",
    "# group rows with the same values in 'sent0' together by sorting\n",
    "original_data = original_data.sort_values(by='sent0', ascending=True) \n",
    "original_data = original_data.reset_index(drop=True)\n",
    "\n",
    "total_data = original_data.shape[0]\n",
    "original_data = original_data[:total_data//2*2]\n",
    "\n",
    "orig_data_1 = original_data[:total_data//2]\n",
    "orig_data_2 = original_data[total_data//2:]\n",
    "\n",
    "overlap = set(orig_data_1['sent0']) & set(orig_data_2['sent0'])\n",
    "if overlap:\n",
    "    print(\"Overlap values:\", overlap)\n",
    "else:\n",
    "    print(\"No overlap found.\")\n"
   ]
  },
  {
   "cell_type": "markdown",
   "metadata": {},
   "source": [
    "## explore detection"
   ]
  },
  {
   "cell_type": "code",
   "execution_count": null,
   "metadata": {},
   "outputs": [],
   "source": [
    "device = torch.device('cuda' if torch.cuda.is_available() else 'cpu')\n",
    "\n",
    "# load sentiment embedding model\n",
    "# sentiment_model_name = r\"/mnt/data2/lian/projects/watermark/SimCSE/result/my-sup-simcse-roberta-base-2gpu-64batch/checkpoint-epoch1\"\n",
    "sentiment_model_name = r\"/mnt/data2/lian/projects/watermark/SimCSE/result/my-sup-simcse-roberta-base-sentiment/checkpoint-125\"\n",
    "sentiment_model = AutoModelForSequenceClassification.from_pretrained(sentiment_model_name, device_map='auto')\n",
    "sentiment_tokenizer = AutoTokenizer.from_pretrained(sentiment_model_name)\n"
   ]
  },
  {
   "cell_type": "code",
   "execution_count": 7,
   "metadata": {},
   "outputs": [],
   "source": [
    "text = 'how are you'\n",
    "sentiment_embed = _sentiment_embedding(text, sentiment_model, sentiment_tokenizer, device)"
   ]
  },
  {
   "cell_type": "code",
   "execution_count": null,
   "metadata": {},
   "outputs": [],
   "source": [
    "sentiment_embed[:10]"
   ]
  },
  {
   "cell_type": "markdown",
   "metadata": {},
   "source": [
    "## visualize similarity after mapping"
   ]
  },
  {
   "cell_type": "code",
   "execution_count": 11,
   "metadata": {},
   "outputs": [],
   "source": [
    "import matplotlib.pyplot as plt\n",
    "import seaborn as sns\n",
    "import pandas as pd\n",
    "import torch.nn as nn\n",
    "import torch\n",
    "from transformers import AutoModelForSequenceClassification\n",
    "from transformers import AutoTokenizer\n",
    "from tqdm import tqdm\n",
    "import os\n",
    "\n",
    "unchange_prompt = f'''Rewrite the following text by changing the wording but keeping all the facts exactly the same. The new version should match the original sentiment very closely, not just in positivity or negativity but also in the nuanced expression of emotions. Aim to minimize any changes that could alter the text's subtle tone, and ensure the paraphrased version is close in meaning to the original.'''\n",
    "negative_prompt = f'''Please modify the following text to reflect a more negative or aggressive tone. \\nRequirements: \\n- Add around <<num_words>> negative or aggressive words;\\n- Maintain the original structure as closely as possible;\\n- Shift the underlying implications to convey a more hostile attitude.'''\n",
    "positive_promt = f'''Please modify the following text to reflect a more positive, enthusiastic tone. \\nRequirements: \\n- Add or modify around <<num_words>> words; \\n- Maintain the original structure as closely as possible; \\n- Shift the language to convey excitement and optimism.'''\n",
    "\n",
    "prompts = {'unchange': unchange_prompt, 'negative': negative_prompt, 'positive': positive_promt}"
   ]
  },
  {
   "cell_type": "code",
   "execution_count": 12,
   "metadata": {},
   "outputs": [],
   "source": [
    "class ResidualBlock(nn.Module):\n",
    "    def __init__(self, dim):\n",
    "        super(ResidualBlock, self).__init__()\n",
    "        self.fc = nn.Linear(dim, dim)\n",
    "        self.relu = nn.ReLU()\n",
    "\n",
    "    def forward(self, x):\n",
    "        out = self.fc(x)\n",
    "        out = self.relu(out)\n",
    "        out = out + x \n",
    "        return out\n",
    "\n",
    "class SemanticModel(nn.Module):\n",
    "    def __init__(self, num_layers=2, input_dim=768, hidden_dim=512, output_dim=384):\n",
    "        super(SemanticModel, self).__init__()\n",
    "        \n",
    "        self.layers = nn.ModuleList()\n",
    "        \n",
    "        self.layers.append(nn.Linear(input_dim, hidden_dim))\n",
    "        \n",
    "        for _ in range(num_layers):\n",
    "            self.layers.append(ResidualBlock(hidden_dim))\n",
    "\n",
    "        self.layers.append(nn.Linear(hidden_dim, output_dim))\n",
    "\n",
    "    def forward(self, x):\n",
    "        for i in range(len(self.layers)):\n",
    "            x = self.layers[i](x)\n",
    "        \n",
    "        return x\n"
   ]
  },
  {
   "cell_type": "code",
   "execution_count": 13,
   "metadata": {},
   "outputs": [],
   "source": [
    "def _semantic_embedding(input_text, model):\n",
    "    outputs = model.encode(input_text, convert_to_tensor=True)\n",
    "    return outputs"
   ]
  },
  {
   "cell_type": "code",
   "execution_count": 14,
   "metadata": {},
   "outputs": [],
   "source": [
    "import torch.nn.functional as F\n",
    "import math\n",
    "\n",
    "def cosine_similarity(list1, list2):\n",
    "    assert len(list1) == len(list2), \"Lists must have the same length\"\n",
    "    dot_product = sum(el1 * el2 for el1, el2 in zip(list1, list2))\n",
    "    norm1 = math.sqrt(sum(el1**2 for el1 in list1))\n",
    "    norm2 = math.sqrt(sum(el2**2 for el2 in list2))\n",
    "    return dot_product / (norm1 * norm2) if norm1 != 0 and norm2 != 0 else 0\n",
    "\n",
    "\n",
    "def _compute_mapping_similarity(original_text, paraphrased_text, embed_model, map_model, embed_tokenizer=None, sign_transform=False):\n",
    "    device = torch.device('cuda' if torch.cuda.is_available() else 'cpu')\n",
    "\n",
    "    if embed_tokenizer: \n",
    "        # sentiment embedding\n",
    "        original_embed = _sentiment_embedding(original_text, embed_model, embed_tokenizer, device)\n",
    "        paraphrased_embed = _sentiment_embedding(paraphrased_text, embed_model, embed_tokenizer, device)\n",
    "    else:\n",
    "        # semantic embedding\n",
    "        original_embed = _semantic_embedding(original_text, embed_model)\n",
    "        paraphrased_embed = _semantic_embedding(paraphrased_text, embed_model)\n",
    "\n",
    "    original_map = map_model(original_embed)\n",
    "    paraphrased_map = map_model(paraphrased_embed)\n",
    "\n",
    "    if sign_transform:\n",
    "        original_map = original_map.tolist()\n",
    "        original_map = [1.0 if x>0.0 else 0.0 for x in original_map]\n",
    "        paraphrased_map = paraphrased_map.tolist()\n",
    "        paraphrased_map = [1.0 if x>0.0 else 0.0 for x in paraphrased_map]\n",
    "        cosine_sim_value = cosine_similarity(original_map, paraphrased_map)\n",
    "    else:\n",
    "        cosine_sim = F.cosine_similarity(original_map.unsqueeze(0), paraphrased_map.unsqueeze(0), dim=1)\n",
    "        cosine_sim_value = cosine_sim.item()\n",
    "\n",
    "    return cosine_sim_value\n"
   ]
  },
  {
   "cell_type": "markdown",
   "metadata": {},
   "source": [
    "### compare similarity between original text and attacked on **watermarked text**"
   ]
  },
  {
   "cell_type": "code",
   "execution_count": null,
   "metadata": {},
   "outputs": [],
   "source": [
    "device = torch.device('cuda' if torch.cuda.is_available() else 'cpu')\n",
    "\n",
    "# load sentiment embedding model\n",
    "# sentiment_model_name = r\"/mnt/data2/lian/projects/watermark/SimCSE/result/my-sup-simcse-roberta-base-2gpu-64batch/checkpoint-epoch1\"\n",
    "sentiment_model_name = r\"/mnt/data2/lian/projects/watermark/SimCSE/result/my-sup-simcse-roberta-base-sentiment/checkpoint-125\"\n",
    "sentiment_model = AutoModel.from_pretrained(sentiment_model_name)\n",
    "sentiment_tokenizer = AutoTokenizer.from_pretrained(sentiment_model_name)\n",
    "state_dict = torch.load(f'{sentiment_model_name}/pytorch_model.bin')\n",
    "sentiment_model.pooler.dense.weight.data = state_dict['mlp.dense.weight'].clone()\n",
    "sentiment_model.pooler.dense.bias.data = state_dict['mlp.dense.bias'].clone()\n",
    "sentiment_model = sentiment_model.to(device)\n",
    "sentiment_model.eval()\n",
    "\n",
    "def compute_mapping_similarity(mapping_model_name, sign_transform=False):\n",
    "    # load semantic mapping model\n",
    "    mapping_model = SemanticModel()\n",
    "    mapping_model.load_state_dict(torch.load(mapping_model_name))\n",
    "    mapping_model.to(device)\n",
    "    mapping_model.eval()\n",
    "\n",
    "    data_dir = os.path.dirname(mapping_model_name)\n",
    "    df_result = pd.DataFrame()\n",
    "\n",
    "    for attack in ['hate', 'paraphrase']:\n",
    "        data_path = f'{data_dir}/{attack}-8b-10sent-alpha2.0-beta1.0-delta0.2|0.5.csv'\n",
    "        data = pd.read_csv(data_path)\n",
    "        df_result[f'{attack}_similarity'] = ''\n",
    "        for i in tqdm(range(data.shape[0])):\n",
    "            original = data.loc[i, 'original_text']\n",
    "            paraphrased =  data.loc[i, f'{attack}_watermarked_text']\n",
    "            if isinstance(paraphrased, str):  # paraphrased text is not empty\n",
    "                similarity = _compute_mapping_similarity(original, paraphrased, sentiment_model, mapping_model, embed_tokenizer=sentiment_tokenizer, sign_transform=sign_transform)\n",
    "            else:\n",
    "                similarity = None\n",
    "            df_result.loc[i, f\"{attack}_similarity\"] = similarity\n",
    "    return df_result\n"
   ]
  },
  {
   "cell_type": "code",
   "execution_count": null,
   "metadata": {},
   "outputs": [],
   "source": [
    "mapping_model_name=r\"model/my-sup-simcse-roberta-base-sentiment/dense_output/4loss/scratch/best_model.pth\"\n",
    "loss4_scratch = compute_mapping_similarity(mapping_model_name, sign_transform=True)\n",
    "\n",
    "mapping_model_name=r\"model/my-sup-simcse-roberta-base-sentiment/dense_output/4loss/finetune/best_model.pth\"\n",
    "loss4_finetune = compute_mapping_similarity(mapping_model_name, sign_transform=True)\n",
    "\n",
    "mapping_model_name=r\"model/my-sup-simcse-roberta-base-sentiment/dense_output/3loss/scratch/best_model.pth\"\n",
    "loss3_scratch = compute_mapping_similarity(mapping_model_name, sign_transform=True)\n",
    "\n",
    "mapping_model_name=r\"model/my-sup-simcse-roberta-base-sentiment/dense_output/3loss/finetune/best_model.pth\"\n",
    "loss3_finetune = compute_mapping_similarity(mapping_model_name, sign_transform=True)\n",
    "\n",
    "import matplotlib.pyplot as plt\n",
    "\n",
    "for col in ['paraphrase_similarity', 'hate_similarity']:\n",
    "# Extracting the 'unchange_similarity' columns from the given dataframes\n",
    "    data1 = loss4_scratch[col]\n",
    "    data2 = loss4_finetune[col]\n",
    "    data3 = loss3_scratch[col]\n",
    "    data4 = loss3_finetune[col]\n",
    "\n",
    "    # Handling None values by filtering them out\n",
    "    data1 = [value for value in data1 if value is not None]\n",
    "    data2 = [value for value in data2 if value is not None]\n",
    "    data3 = [value for value in data3 if value is not None]\n",
    "    data4 = [value for value in data4 if value is not None]\n",
    "\n",
    "    # Creating the boxplot\n",
    "    plt.figure(figsize=(8, 6))\n",
    "    plt.boxplot([data1, data2, data3, data4], labels=['loss4_scratch', 'loss4_finetune', 'loss3_scratch', 'loss3_finetune'], patch_artist=True, \n",
    "                boxprops=dict(facecolor='lightblue', color='blue'), \n",
    "                medianprops=dict(color='red'))\n",
    "\n",
    "    # Adding title and labels\n",
    "    plt.title(f'Similarity of Mapping after 0/1 Transfromation for {col}')\n",
    "    plt.ylabel('Similarity')\n",
    "    plt.grid(axis='y', linestyle='--', alpha=0.7)\n",
    "\n",
    "    # Display the plot\n",
    "    plt.show()\n"
   ]
  },
  {
   "cell_type": "code",
   "execution_count": null,
   "metadata": {},
   "outputs": [],
   "source": [
    "loss='4loss'\n",
    "train='finetune'\n",
    "mapping_model_name=rf\"model/my-sup-simcse-roberta-base-sentiment/dense_output/{loss}/{train}/best_model.pth\"\n",
    "df_result = compute_mapping_similarity(mapping_model_name, sign_transform=True)\n",
    "\n",
    "df_long = pd.melt(df_result[['paraphrase_similarity', 'hate_similarity']], \n",
    "                  var_name='Similarity Type', value_name='Similarity')\n",
    "\n",
    "plt.figure(figsize=(8, 5))\n",
    "sns.boxplot(x='Similarity Type', y='Similarity', data=df_long)\n",
    "\n",
    "plt.title(f\"{loss}/{train} Similarity of Mapping after 0/1 Transfromation\", fontsize=15)\n",
    "plt.xlabel('Paraphrase Type')\n",
    "plt.ylabel('Similarity')\n",
    "plt.xticks(rotation=30)\n",
    "\n",
    "# 显示图表\n",
    "plt.show()\n",
    "print('Complete!')\n"
   ]
  },
  {
   "cell_type": "markdown",
   "metadata": {},
   "source": [
    "### compare similarity between original text and attacked on **original text**"
   ]
  },
  {
   "cell_type": "code",
   "execution_count": null,
   "metadata": {},
   "outputs": [],
   "source": [
    "device = torch.device('cuda' if torch.cuda.is_available() else 'cpu')\n",
    "\n",
    "# load sentiment embedding model\n",
    "# sentiment_model_name = r\"/mnt/data2/lian/projects/watermark/SimCSE/result/my-sup-simcse-roberta-base-2gpu-64batch/checkpoint-epoch1\"\n",
    "sentiment_model_name = r\"/mnt/data2/lian/projects/watermark/SimCSE/result/my-sup-simcse-roberta-base-sentiment/checkpoint-125\"\n",
    "sentiment_model = AutoModelForSequenceClassification.from_pretrained(sentiment_model_name, device_map='auto')\n",
    "sentiment_tokenizer = AutoTokenizer.from_pretrained(sentiment_model_name)\n",
    "\n",
    "def compute_mapping_similarity(mapping_model_name, sign_transform=False):\n",
    "    # load semantic mapping model\n",
    "    mapping_model = SemanticModel()\n",
    "    mapping_model.load_state_dict(torch.load(mapping_model_name))\n",
    "    mapping_model.to(device)\n",
    "    mapping_model.eval()\n",
    "\n",
    "    # load dataset\n",
    "    test_data_final = r'/mnt/data2/lian/projects/watermark/data/c4_test_final.csv'\n",
    "    df_test_final = pd.read_csv(test_data_final)\n",
    "\n",
    "    # calculate similarity between embeddings\n",
    "    for type_ in prompts.keys():\n",
    "        df_test_final[f\"{type_}_similarity\"] = ''\n",
    "        for i in tqdm(range(df_test_final.shape[0])):\n",
    "            original = df_test_final.loc[i, 'text']\n",
    "            paraphrased =  df_test_final.loc[i, f'{type_}_paraphrase']\n",
    "            similarity = _compute_mapping_similarity(original, paraphrased, sentiment_model, mapping_model, embed_tokenizer=sentiment_tokenizer, sign_transform=sign_transform)\n",
    "            df_test_final.loc[i, f\"{type_}_similarity\"] = similarity\n",
    "    return df_test_final\n"
   ]
  },
  {
   "cell_type": "code",
   "execution_count": null,
   "metadata": {},
   "outputs": [],
   "source": [
    "mapping_model_name=r\"model/my-sup-simcse-roberta-base-sentiment/dense_output/4loss/scratch/best_model.pth\"\n",
    "loss4_scratch = compute_mapping_similarity(mapping_model_name, sign_transform=True)\n",
    "\n",
    "mapping_model_name=r\"model/my-sup-simcse-roberta-base-sentiment/dense_output/4loss/finetune/best_model.pth\"\n",
    "loss4_finetune = compute_mapping_similarity(mapping_model_name, sign_transform=True)\n",
    "\n",
    "mapping_model_name=r\"model/my-sup-simcse-roberta-base-sentiment/dense_output/3loss/scratch/best_model.pth\"\n",
    "loss3_scratch = compute_mapping_similarity(mapping_model_name, sign_transform=True)\n",
    "\n",
    "mapping_model_name=r\"model/my-sup-simcse-roberta-base-sentiment/dense_output/3loss/finetune/best_model.pth\"\n",
    "loss3_finetune = compute_mapping_similarity(mapping_model_name, sign_transform=True)\n",
    "\n",
    "import matplotlib.pyplot as plt\n",
    "\n",
    "for col in ['unchange_similarity', 'negative_similarity', 'positive_similarity']:\n",
    "# Extracting the 'unchange_similarity' columns from the given dataframes\n",
    "    data1 = loss4_scratch[col]\n",
    "    data2 = loss4_finetune[col]\n",
    "    data3 = loss3_scratch[col]\n",
    "    data4 = loss3_finetune[col]\n",
    "\n",
    "    # Creating the boxplot\n",
    "    plt.figure(figsize=(8, 6))\n",
    "    plt.boxplot([data1, data2, data3, data4], labels=['loss4_scratch', 'loss4_finetune', 'loss3_scratch', 'loss3_finetune'], patch_artist=True, \n",
    "                boxprops=dict(facecolor='lightblue', color='blue'), \n",
    "                medianprops=dict(color='red'))\n",
    "\n",
    "    # Adding title and labels\n",
    "    plt.title(f'Similarity of Mapping after 0/1 Transfromation for {col}')\n",
    "    plt.ylabel('Similarity')\n",
    "    plt.grid(axis='y', linestyle='--', alpha=0.7)\n",
    "\n",
    "    # Display the plot\n",
    "    plt.show()\n"
   ]
  },
  {
   "cell_type": "code",
   "execution_count": null,
   "metadata": {},
   "outputs": [],
   "source": [
    "mapping_model_name=r\"model/my-sup-simcse-roberta-base-sentiment/dense_output/4loss/scratch/best_model.pth\"\n",
    "loss4_scratch = compute_mapping_similarity(mapping_model_name)\n",
    "\n",
    "mapping_model_name=r\"model/my-sup-simcse-roberta-base-sentiment/dense_output/4loss/finetune/best_model.pth\"\n",
    "loss4_finetune = compute_mapping_similarity(mapping_model_name)\n",
    "\n",
    "mapping_model_name=r\"model/my-sup-simcse-roberta-base-sentiment/dense_output/3loss/scratch/best_model.pth\"\n",
    "loss3_scratch = compute_mapping_similarity(mapping_model_name)\n",
    "\n",
    "mapping_model_name=r\"model/my-sup-simcse-roberta-base-sentiment/dense_output/3loss/finetune/best_model.pth\"\n",
    "loss3_finetune = compute_mapping_similarity(mapping_model_name)\n",
    "\n",
    "import matplotlib.pyplot as plt\n",
    "\n",
    "for col in ['unchange_similarity', 'negative_similarity', 'positive_similarity']:\n",
    "# Extracting the 'unchange_similarity' columns from the given dataframes\n",
    "    data1 = loss4_scratch[col]\n",
    "    data2 = loss4_finetune[col]\n",
    "    data3 = loss3_scratch[col]\n",
    "    data4 = loss3_finetune[col]\n",
    "\n",
    "    # Creating the boxplot\n",
    "    plt.figure(figsize=(8, 6))\n",
    "    plt.boxplot([data1, data2, data3, data4], labels=['loss4_scratch', 'loss4_finetune', 'loss3_scratch', 'loss3_finetune'], patch_artist=True, \n",
    "                boxprops=dict(facecolor='lightblue', color='blue'), \n",
    "                medianprops=dict(color='red'))\n",
    "\n",
    "    # Adding title and labels\n",
    "    plt.title(f'Similarity of Mapping for {col}')\n",
    "    plt.ylabel('Similarity')\n",
    "    plt.grid(axis='y', linestyle='--', alpha=0.7)\n",
    "\n",
    "    # Display the plot\n",
    "    plt.show()\n"
   ]
  },
  {
   "cell_type": "markdown",
   "metadata": {},
   "source": [
    "### backup"
   ]
  },
  {
   "cell_type": "code",
   "execution_count": null,
   "metadata": {},
   "outputs": [],
   "source": [
    "mapping_model_name=r\"model/my-sup-simcse-roberta-base-sentiment/dense_output/3loss/finetune/best_model.pth\"\n",
    "\n",
    "df_test_final = compute_mapping_similarity(mapping_model_name, sign_transform=True)\n",
    "\n",
    "df_long = pd.melt(df_test_final[['unchange_similarity', 'negative_similarity', 'positive_similarity']], \n",
    "                  var_name='Similarity Type', value_name='Similarity')\n",
    "\n",
    "plt.figure(figsize=(8, 5))\n",
    "sns.boxplot(x='Similarity Type', y='Similarity', data=df_long)\n",
    "\n",
    "plt.title(f\"Similarity of Mapping after 0/1 Transfromation\", fontsize=20)\n",
    "plt.xlabel('Paraphrase Type')\n",
    "plt.ylabel('Similarity')\n",
    "plt.xticks(rotation=30)\n",
    "\n",
    "# 显示图表\n",
    "plt.show()\n",
    "print('Complete!')\n"
   ]
  },
  {
   "cell_type": "code",
   "execution_count": null,
   "metadata": {},
   "outputs": [],
   "source": [
    "mapping_model_name=r\"model/my-sup-simcse-roberta-base-sentiment/dense_output/3loss/finetune/best_model.pth\"\n",
    "\n",
    "df_test_final = compute_mapping_similarity(mapping_model_name)\n",
    "\n",
    "df_long = pd.melt(df_test_final[['unchange_similarity', 'negative_similarity', 'positive_similarity']], \n",
    "                  var_name='Similarity Type', value_name='Similarity')\n",
    "\n",
    "plt.figure(figsize=(8, 5))\n",
    "sns.boxplot(x='Similarity Type', y='Similarity', data=df_long)\n",
    "\n",
    "plt.title(f\"Similarity of Mapping\", fontsize=23)\n",
    "plt.xlabel('Paraphrase Type')\n",
    "plt.ylabel('Similarity')\n",
    "plt.xticks(rotation=30)\n",
    "\n",
    "# 显示图表\n",
    "plt.show()\n",
    "print('Complete!')\n"
   ]
  },
  {
   "cell_type": "markdown",
   "metadata": {},
   "source": [
    "## Embed+Map integrated model Eval"
   ]
  },
  {
   "cell_type": "markdown",
   "metadata": {},
   "source": [
    "load model"
   ]
  },
  {
   "cell_type": "code",
   "execution_count": 6,
   "metadata": {},
   "outputs": [
    {
     "data": {
      "text/plain": [
       "RobertaForCL(\n",
       "  (roberta): RobertaModel(\n",
       "    (embeddings): RobertaEmbeddings(\n",
       "      (word_embeddings): Embedding(50265, 768, padding_idx=1)\n",
       "      (position_embeddings): Embedding(514, 768, padding_idx=1)\n",
       "      (token_type_embeddings): Embedding(1, 768)\n",
       "      (LayerNorm): LayerNorm((768,), eps=1e-05, elementwise_affine=True)\n",
       "      (dropout): Dropout(p=0.1, inplace=False)\n",
       "    )\n",
       "    (encoder): RobertaEncoder(\n",
       "      (layer): ModuleList(\n",
       "        (0-11): 12 x RobertaLayer(\n",
       "          (attention): RobertaAttention(\n",
       "            (self): RobertaSdpaSelfAttention(\n",
       "              (query): Linear(in_features=768, out_features=768, bias=True)\n",
       "              (key): Linear(in_features=768, out_features=768, bias=True)\n",
       "              (value): Linear(in_features=768, out_features=768, bias=True)\n",
       "              (dropout): Dropout(p=0.1, inplace=False)\n",
       "            )\n",
       "            (output): RobertaSelfOutput(\n",
       "              (dense): Linear(in_features=768, out_features=768, bias=True)\n",
       "              (LayerNorm): LayerNorm((768,), eps=1e-05, elementwise_affine=True)\n",
       "              (dropout): Dropout(p=0.1, inplace=False)\n",
       "            )\n",
       "          )\n",
       "          (intermediate): RobertaIntermediate(\n",
       "            (dense): Linear(in_features=768, out_features=3072, bias=True)\n",
       "            (intermediate_act_fn): GELUActivation()\n",
       "          )\n",
       "          (output): RobertaOutput(\n",
       "            (dense): Linear(in_features=3072, out_features=768, bias=True)\n",
       "            (LayerNorm): LayerNorm((768,), eps=1e-05, elementwise_affine=True)\n",
       "            (dropout): Dropout(p=0.1, inplace=False)\n",
       "          )\n",
       "        )\n",
       "      )\n",
       "    )\n",
       "  )\n",
       "  (pooler): Pooler()\n",
       "  (mlp): MLPLayer(\n",
       "    (dense): Linear(in_features=768, out_features=768, bias=True)\n",
       "    (activation): Tanh()\n",
       "  )\n",
       "  (sim): Similarity(\n",
       "    (cos): CosineSimilarity()\n",
       "  )\n",
       "  (map): SemanticModel(\n",
       "    (layers): ModuleList(\n",
       "      (0): Linear(in_features=768, out_features=512, bias=True)\n",
       "      (1-2): 2 x ResidualBlock(\n",
       "        (fc): Linear(in_features=512, out_features=512, bias=True)\n",
       "        (relu): ReLU()\n",
       "      )\n",
       "      (3): Linear(in_features=512, out_features=384, bias=True)\n",
       "    )\n",
       "  )\n",
       ")"
      ]
     },
     "execution_count": 6,
     "metadata": {},
     "output_type": "execute_result"
    }
   ],
   "source": [
    "import os\n",
    "import torch\n",
    "from types import SimpleNamespace\n",
    "from transformers import AutoConfig, AutoTokenizer\n",
    "from model_cl2 import RobertaForCL\n",
    "import math\n",
    "\n",
    "device = torch.device('cuda' if torch.cuda.is_available() else 'cpu')\n",
    "\n",
    "embed_map_model_path = r\"/mnt/data2/lian/projects/watermark/SimCSE/result/end2end-simcse-roberta-sentiment-c4-loss_cl2_gr-wneg64\"\n",
    "model_args = SimpleNamespace(\n",
    "    temp = 0.05,\n",
    "    pooler_type = 'cls',\n",
    "    hard_negative_weight = math.log(64),\n",
    "    do_mlm = False,\n",
    "    mlp_only_train = False,\n",
    "    freeze_roberta = True,\n",
    ")\n",
    "\n",
    "config = AutoConfig.from_pretrained(os.path.join(embed_map_model_path, \"config.json\"))\n",
    "tokenizer = AutoTokenizer.from_pretrained(embed_map_model_path)\n",
    "model = RobertaForCL.from_pretrained(\n",
    "    embed_map_model_path,\n",
    "    from_tf=bool(\".ckpt\" in embed_map_model_path),\n",
    "    config=config,\n",
    "    model_args=model_args,\n",
    "    device_map='auto',\n",
    ")\n",
    "model.eval()\n",
    "\n",
    "# if \"twitter-roberta-base-sentiment\" in model_args.embed_map_model_path:\n",
    "#     # Initialize MLP weights\n",
    "#     from transformers import AutoModelForSequenceClassification\n",
    "#     pretrained_model = AutoModelForSequenceClassification.from_pretrained(model_args.embed_map_model_path)\n",
    "#     model.initialize_mlp_weights(pretrained_model)\n",
    "#     print('Load mlp dense weights and bias from pretrained model!')\n"
   ]
  },
  {
   "cell_type": "code",
   "execution_count": 7,
   "metadata": {},
   "outputs": [],
   "source": [
    "# compare with loading directly\n",
    "\n",
    "# import torch\n",
    "# embed_map_model_path = r\"/mnt/data2/lian/projects/watermark/SimCSE/result/my-sup-wm-simcse-roberta-sentiment-test\"\n",
    "# state_dict = torch.load(f'{embed_map_model_path}/pytorch_model.bin')\n"
   ]
  },
  {
   "cell_type": "markdown",
   "metadata": {},
   "source": [
    "get mapping result"
   ]
  },
  {
   "cell_type": "code",
   "execution_count": 8,
   "metadata": {},
   "outputs": [],
   "source": [
    "def _sentiment_embed_map(input_text, model, tokenizer, device):\n",
    "    input_ids = tokenizer(\n",
    "        input_text,\n",
    "        return_tensors='pt',\n",
    "        truncation=True,  # Truncate input to the model's max length\n",
    "        max_length=512    # Ensure the max length is 512 for RoBERTa\n",
    "    ).to(device)\n",
    "    # last hidden states shape is [batch_size, sequence_length, hidden_size]\n",
    "    with torch.no_grad():\n",
    "        outputs = model(**input_ids, return_dict=True, sent_emb=True)\n",
    "        pooler_output = outputs.pooler_output.squeeze()\n",
    "    return pooler_output"
   ]
  },
  {
   "cell_type": "code",
   "execution_count": 9,
   "metadata": {},
   "outputs": [],
   "source": [
    "import torch.nn.functional as F\n",
    "import math\n",
    "\n",
    "def cosine_similarity(list1, list2):\n",
    "    assert len(list1) == len(list2), \"Lists must have the same length\"\n",
    "    dot_product = sum(el1 * el2 for el1, el2 in zip(list1, list2))\n",
    "    norm1 = math.sqrt(sum(el1**2 for el1 in list1))\n",
    "    norm2 = math.sqrt(sum(el2**2 for el2 in list2))\n",
    "    return dot_product / (norm1 * norm2) if norm1 != 0 and norm2 != 0 else 0\n",
    "\n",
    "\n",
    "def _compute_mapping_similarity(original_text, paraphrased_text, embed_map_model, embed_map_tokenizer, sign_transform=False):\n",
    "    device = torch.device('cuda' if torch.cuda.is_available() else 'cpu')\n",
    "\n",
    "    original_map = _sentiment_embed_map(original_text, embed_map_model, embed_map_tokenizer, device)\n",
    "    paraphrased_map = _sentiment_embed_map(paraphrased_text, embed_map_model, embed_map_tokenizer, device)\n",
    "\n",
    "    if sign_transform:\n",
    "        original_map = original_map.tolist()\n",
    "        original_map = [1.0 if x>0.0 else 0.0 for x in original_map]\n",
    "        paraphrased_map = paraphrased_map.tolist()\n",
    "        paraphrased_map = [1.0 if x>0.0 else 0.0 for x in paraphrased_map]\n",
    "        cosine_sim_value = cosine_similarity(original_map, paraphrased_map)\n",
    "    else:\n",
    "        cosine_sim = F.cosine_similarity(original_map.unsqueeze(0), paraphrased_map.unsqueeze(0), dim=1)\n",
    "        cosine_sim_value = cosine_sim.item()\n",
    "\n",
    "    return cosine_sim_value\n"
   ]
  },
  {
   "cell_type": "markdown",
   "metadata": {},
   "source": [
    "### compare similarity between original text and attacked on **original text**"
   ]
  },
  {
   "cell_type": "code",
   "execution_count": 26,
   "metadata": {},
   "outputs": [],
   "source": [
    "import pandas as pd\n",
    "\n",
    "test_data_path = r\"/mnt/data2/lian/projects/watermark/data/c4_test_final.csv\"\n",
    "df = pd.read_csv(test_data_path)\n",
    "df['original_len'] = df['text'].apply(lambda x: len(x.split(' ')))\n",
    "df['neg_len'] = df['negative_paraphrase'].apply(lambda x: len(x.split(' ')))"
   ]
  },
  {
   "cell_type": "code",
   "execution_count": 27,
   "metadata": {},
   "outputs": [],
   "source": [
    "import pandas as pd\n",
    "from tqdm import tqdm\n",
    "\n",
    "def compute_mapping_similarity(embed_map_model, embed_map_tokenizer, sign_transform=False):\n",
    "    # load dataset\n",
    "    test_data_final = r'/mnt/data2/lian/projects/watermark/data/c4_test_final.csv'\n",
    "    df_test_final = pd.read_csv(test_data_final)\n",
    "\n",
    "    # calculate similarity between embeddings\n",
    "    for type_ in prompts.keys():\n",
    "        df_test_final[f\"{type_}_similarity\"] = ''\n",
    "        for i in tqdm(range(df_test_final.shape[0])):\n",
    "            original = df_test_final.loc[i, 'text']\n",
    "            paraphrased =  df_test_final.loc[i, f'{type_}_paraphrase']\n",
    "            similarity = _compute_mapping_similarity(original, paraphrased, embed_map_model, embed_map_tokenizer, sign_transform=sign_transform)\n",
    "            df_test_final.loc[i, f\"{type_}_similarity\"] = similarity\n",
    "    return df_test_final\n"
   ]
  },
  {
   "cell_type": "code",
   "execution_count": 28,
   "metadata": {},
   "outputs": [
    {
     "name": "stderr",
     "output_type": "stream",
     "text": [
      "100%|██████████| 50/50 [00:01<00:00, 27.64it/s]\n",
      "100%|██████████| 50/50 [00:01<00:00, 27.09it/s]\n",
      "100%|██████████| 50/50 [00:01<00:00, 28.02it/s]\n"
     ]
    },
    {
     "data": {
      "image/png": "[encoded data removed]",
      "text/plain": [
       "<Figure size 800x500 with 1 Axes>"
      ]
     },
     "metadata": {},
     "output_type": "display_data"
    },
    {
     "name": "stdout",
     "output_type": "stream",
     "text": [
      "Complete!\n"
     ]
    }
   ],
   "source": [
    "import matplotlib.pyplot as plt\n",
    "import seaborn as sns\n",
    "\n",
    "df_test_final = compute_mapping_similarity(model, tokenizer, sign_transform=True)\n",
    "\n",
    "df_long = pd.melt(df_test_final[['unchange_similarity', 'negative_similarity', 'positive_similarity']], \n",
    "                  var_name='Similarity Type', value_name='Similarity')\n",
    "\n",
    "plt.figure(figsize=(8, 5))\n",
    "sns.boxplot(x='Similarity Type', y='Similarity', data=df_long)\n",
    "\n",
    "plt.title(f\"loss:cl2+G/R neg_weight=0\\nSimilarity of Mapping after 0/1 Transfromation\", fontsize=18)\n",
    "plt.xlabel('Paraphrase Type')\n",
    "plt.ylabel('Similarity')\n",
    "plt.xticks(rotation=30)\n",
    "\n",
    "# 显示图表\n",
    "plt.show()\n",
    "print('Complete!')\n"
   ]
  },
  {
   "cell_type": "markdown",
   "metadata": {},
   "source": [
    "### compare similarity between original text and attacked on **watermarked text**"
   ]
  },
  {
   "cell_type": "code",
   "execution_count": 10,
   "metadata": {},
   "outputs": [],
   "source": [
    "import pandas as pd\n",
    "from tqdm import tqdm\n",
    "\n",
    "def compute_mapping_similarity(embed_map_model, embed_map_tokenizer, sign_transform=False):\n",
    "    df_result = pd.DataFrame()\n",
    "\n",
    "    for attack in ['hate', 'paraphrased']:\n",
    "        data_path = f'/mnt/data2/lian/projects/watermark/adaptive-text-watermark-yepeng/outputs/end2end/watermark-8b-loss_cl2_gr_wneg64-10sent-alpha2.0-delta0.2|0.5.csv'\n",
    "        data = pd.read_csv(data_path)\n",
    "        df_result[f'{attack}_similarity'] = ''\n",
    "        for i in tqdm(range(data.shape[0])):\n",
    "            original = data.loc[i, 'original_text']\n",
    "            paraphrased =  data.loc[i, f'{attack}_watermarked_text']\n",
    "            if isinstance(paraphrased, str):  # paraphrased text is not empty\n",
    "                similarity = _compute_mapping_similarity(original, paraphrased, embed_map_model, embed_map_tokenizer, sign_transform=sign_transform)\n",
    "            else:\n",
    "                similarity = None\n",
    "            df_result.loc[i, f\"{attack}_similarity\"] = similarity\n",
    "    return df_result\n"
   ]
  },
  {
   "cell_type": "code",
   "execution_count": 11,
   "metadata": {},
   "outputs": [
    {
     "name": "stderr",
     "output_type": "stream",
     "text": [
      "100%|██████████| 50/50 [00:01<00:00, 34.59it/s]\n",
      "100%|██████████| 50/50 [00:01<00:00, 35.38it/s]\n"
     ]
    },
    {
     "data": {
      "image/png": "[encoded data removed]",
      "text/plain": [
       "<Figure size 800x500 with 1 Axes>"
      ]
     },
     "metadata": {},
     "output_type": "display_data"
    },
    {
     "name": "stdout",
     "output_type": "stream",
     "text": [
      "Complete!\n"
     ]
    }
   ],
   "source": [
    "import matplotlib.pyplot as plt\n",
    "import seaborn as sns\n",
    "\n",
    "df_result = compute_mapping_similarity(model, tokenizer, sign_transform=True)\n",
    "\n",
    "df_long = pd.melt(df_result[['paraphrased_similarity', 'hate_similarity']], \n",
    "                  var_name='Similarity Type', value_name='Similarity')\n",
    "\n",
    "plt.figure(figsize=(8, 5))\n",
    "sns.boxplot(x='Similarity Type', y='Similarity', data=df_long)\n",
    "\n",
    "plt.title(f\"loss:cl2+G/R wneg=64, finetune all\\nSimilarity of Mapping after 0/1 Transfromation\", fontsize=15)\n",
    "plt.xlabel('Paraphrase Type')\n",
    "plt.ylabel('Similarity')\n",
    "plt.xticks(rotation=30)\n",
    "\n",
    "# 显示图表\n",
    "plt.show()\n",
    "print('Complete!')\n"
   ]
  },
  {
   "cell_type": "markdown",
   "metadata": {},
   "source": [
    "### draw similarity boxplot between different original text\n"
   ]
  },
  {
   "cell_type": "code",
   "execution_count": 14,
   "metadata": {},
   "outputs": [
    {
     "name": "stderr",
     "output_type": "stream",
     "text": [
      "1225it [00:43, 28.30it/s]\n"
     ]
    },
    {
     "data": {
      "image/png": "[encoded data removed]",
      "text/plain": [
       "<Figure size 800x600 with 1 Axes>"
      ]
     },
     "metadata": {},
     "output_type": "display_data"
    }
   ],
   "source": [
    "# draw similarity boxplot between different original text\n",
    "import pandas as pd\n",
    "from itertools import combinations\n",
    "\n",
    "test_data_final = r'/mnt/data2/lian/projects/watermark/data/c4_test_final.csv'\n",
    "df_test_final = pd.read_csv(test_data_final)\n",
    "\n",
    "# Generate all unique pairs of rows from the \"text\" column\n",
    "unique_pairs = combinations(df_test_final[\"text\"], 2)\n",
    "\n",
    "# Compute similarity for each pair and store results\n",
    "results = []\n",
    "for text1, text2 in tqdm(unique_pairs):\n",
    "    similarity = _compute_mapping_similarity(text1, text2, model, tokenizer, sign_transform=True)\n",
    "    results.append({\"text1\": text1, \"text2\": text2, \"similarity\": similarity})\n",
    "\n",
    "# Convert results to a dataframe for better visualization\n",
    "df_results = pd.DataFrame(results)\n",
    "\n",
    "# Draw a boxplot for the 'similarity' column\n",
    "plt.figure(figsize=(8, 6))\n",
    "sns.boxplot(y=df_results['similarity'])\n",
    "plt.title('Similarity Scores of diff texts', fontsize=14)\n",
    "plt.ylabel('Similarity', fontsize=12)\n",
    "plt.show()\n"
   ]
  },
  {
   "cell_type": "markdown",
   "metadata": {},
   "source": [
    "Some weights of RobertaModel were not initialized from the model checkpoint at /mnt/data2/lian/projects/watermark/SimCSE/result/my-sup-wm-simcse-roberta-sentiment-test and are newly initialized: ['roberta.pooler.dense.bias', 'roberta.pooler.dense.weight']\n",
    "\n",
    "You should probably TRAIN this model on a down-stream task to be able to use it for predictions and inference."
   ]
  },
  {
   "cell_type": "markdown",
   "metadata": {},
   "source": [
    "## try using LLM for embedding"
   ]
  },
  {
   "cell_type": "code",
   "execution_count": 4,
   "metadata": {},
   "outputs": [
    {
     "name": "stderr",
     "output_type": "stream",
     "text": [
      "/mnt/data/lian/anaconda3/envs/watermark/lib/python3.10/site-packages/tqdm/auto.py:21: TqdmWarning: IProgress not found. Please update jupyter and ipywidgets. See https://ipywidgets.readthedocs.io/en/stable/user_install.html\n",
      "  from .autonotebook import tqdm as notebook_tqdm\n",
      "/mnt/data/lian/anaconda3/envs/watermark/lib/python3.10/site-packages/transformers/utils/hub.py:128: FutureWarning: Using `TRANSFORMERS_CACHE` is deprecated and will be removed in v5 of Transformers. Use `HF_HOME` instead.\n",
      "  warnings.warn(\n"
     ]
    }
   ],
   "source": [
    "import torch\n",
    "from transformers import AutoModel, AutoModelForSequenceClassification, AutoTokenizer"
   ]
  },
  {
   "cell_type": "code",
   "execution_count": 5,
   "metadata": {},
   "outputs": [],
   "source": [
    "from transformers.models.qwen2.modeling_qwen2 import Qwen2PreTrainedModel, Qwen2Model\n",
    "\n",
    "class Qwen2ForCL(Qwen2PreTrainedModel):\n",
    "    def __init__(self, config):\n",
    "        super().__init__(config)\n",
    "        self.model = Qwen2Model(config)\n",
    "        self.map = TransformModel(input_dim=1536)\n",
    "\n"
   ]
  },
  {
   "cell_type": "code",
   "execution_count": 7,
   "metadata": {},
   "outputs": [
    {
     "name": "stderr",
     "output_type": "stream",
     "text": [
      "Loading checkpoint shards: 100%|██████████| 2/2 [00:00<00:00,  9.02it/s]\n",
      "Some weights of Qwen2ForCL were not initialized from the model checkpoint at Alibaba-NLP/gte-Qwen2-1.5B-instruct and are newly initialized: ['map.layers.0.bias', 'map.layers.0.weight', 'map.layers.1.fc.bias', 'map.layers.1.fc.weight', 'map.layers.2.fc.bias', 'map.layers.2.fc.weight', 'map.layers.3.bias', 'map.layers.3.weight']\n",
      "You should probably TRAIN this model on a down-stream task to be able to use it for predictions and inference.\n"
     ]
    },
    {
     "data": {
      "text/plain": [
       "<bound method Module.eval of Qwen2ForCL(\n",
       "  (model): Qwen2Model(\n",
       "    (embed_tokens): Embedding(151646, 1536)\n",
       "    (layers): ModuleList(\n",
       "      (0-27): 28 x Qwen2DecoderLayer(\n",
       "        (self_attn): Qwen2SdpaAttention(\n",
       "          (q_proj): Linear(in_features=1536, out_features=1536, bias=True)\n",
       "          (k_proj): Linear(in_features=1536, out_features=256, bias=True)\n",
       "          (v_proj): Linear(in_features=1536, out_features=256, bias=True)\n",
       "          (o_proj): Linear(in_features=1536, out_features=1536, bias=False)\n",
       "          (rotary_emb): Qwen2RotaryEmbedding()\n",
       "        )\n",
       "        (mlp): Qwen2MLP(\n",
       "          (gate_proj): Linear(in_features=1536, out_features=8960, bias=False)\n",
       "          (up_proj): Linear(in_features=1536, out_features=8960, bias=False)\n",
       "          (down_proj): Linear(in_features=8960, out_features=1536, bias=False)\n",
       "          (act_fn): SiLU()\n",
       "        )\n",
       "        (input_layernorm): Qwen2RMSNorm((1536,), eps=1e-06)\n",
       "        (post_attention_layernorm): Qwen2RMSNorm((1536,), eps=1e-06)\n",
       "      )\n",
       "    )\n",
       "    (norm): Qwen2RMSNorm((1536,), eps=1e-06)\n",
       "    (rotary_emb): Qwen2RotaryEmbedding()\n",
       "  )\n",
       "  (map): TransformModel(\n",
       "    (layers): ModuleList(\n",
       "      (0): Linear(in_features=1536, out_features=512, bias=True)\n",
       "      (1-2): 2 x ResidualBlock(\n",
       "        (fc): Linear(in_features=512, out_features=512, bias=True)\n",
       "        (relu): ReLU()\n",
       "      )\n",
       "      (3): Linear(in_features=512, out_features=384, bias=True)\n",
       "    )\n",
       "  )\n",
       ")>"
      ]
     },
     "execution_count": 7,
     "metadata": {},
     "output_type": "execute_result"
    }
   ],
   "source": [
    "embed_model_name = \"Alibaba-NLP/gte-Qwen2-1.5B-instruct\"\n",
    "embed_model = Qwen2ForCL.from_pretrained(embed_model_name).to('cuda')\n",
    "# embed_model = AutoModel.from_pretrained(embed_model_name).to('cuda')\n",
    "embed_tokenizer = AutoTokenizer.from_pretrained(embed_model_name)\n",
    "embed_model.eval\n"
   ]
  },
  {
   "cell_type": "code",
   "execution_count": 42,
   "metadata": {},
   "outputs": [
    {
     "data": {
      "text/plain": [
       "device(type='cuda', index=0)"
      ]
     },
     "execution_count": 42,
     "metadata": {},
     "output_type": "execute_result"
    }
   ],
   "source": [
    "embed_model.device"
   ]
  },
  {
   "cell_type": "code",
   "execution_count": 43,
   "metadata": {},
   "outputs": [],
   "source": [
    "text = 'hi how are you'\n",
    "input_ids = embed_tokenizer(text, return_tensors='pt').to('cuda')\n",
    "outputs = embed_model(**input_ids, output_hidden_states=True, return_dict=True)  # (bs, seq_len, hidden_states)"
   ]
  },
  {
   "cell_type": "code",
   "execution_count": 44,
   "metadata": {},
   "outputs": [
    {
     "data": {
      "text/plain": [
       "odict_keys(['last_hidden_state', 'past_key_values', 'hidden_states'])"
      ]
     },
     "execution_count": 44,
     "metadata": {},
     "output_type": "execute_result"
    }
   ],
   "source": [
    "outputs.keys()"
   ]
  },
  {
   "cell_type": "code",
   "execution_count": 6,
   "metadata": {},
   "outputs": [
    {
     "name": "stdout",
     "output_type": "stream",
     "text": [
      "{'input_ids': tensor([[6023, 1246,  525,  498]]), 'attention_mask': tensor([[1, 1, 1, 1]])}\n",
      "4\n"
     ]
    }
   ],
   "source": [
    "print(input_ids)\n",
    "print(len(input_ids['input_ids'][0]))\n"
   ]
  },
  {
   "cell_type": "code",
   "execution_count": 53,
   "metadata": {},
   "outputs": [
    {
     "name": "stdout",
     "output_type": "stream",
     "text": [
      "torch.Size([1, 4, 1536])\n"
     ]
    }
   ],
   "source": [
    "pooler_output = outputs['last_hidden_state']\n",
    "print(pooler_output.shape)"
   ]
  },
  {
   "cell_type": "code",
   "execution_count": 8,
   "metadata": {},
   "outputs": [
    {
     "name": "stderr",
     "output_type": "stream",
     "text": [
      "Loading checkpoint shards: 100%|██████████| 2/2 [00:00<00:00,  9.35it/s]\n"
     ]
    },
    {
     "name": "stdout",
     "output_type": "stream",
     "text": [
      "1543268864\n",
      "Qwen2Model(\n",
      "  (embed_tokens): Embedding(151646, 1536)\n",
      "  (layers): ModuleList(\n",
      "    (0-27): 28 x Qwen2DecoderLayer(\n",
      "      (self_attn): Qwen2SdpaAttention(\n",
      "        (q_proj): Linear(in_features=1536, out_features=1536, bias=True)\n",
      "        (k_proj): Linear(in_features=1536, out_features=256, bias=True)\n",
      "        (v_proj): Linear(in_features=1536, out_features=256, bias=True)\n",
      "        (o_proj): Linear(in_features=1536, out_features=1536, bias=False)\n",
      "        (rotary_emb): Qwen2RotaryEmbedding()\n",
      "      )\n",
      "      (mlp): Qwen2MLP(\n",
      "        (gate_proj): Linear(in_features=1536, out_features=8960, bias=False)\n",
      "        (up_proj): Linear(in_features=1536, out_features=8960, bias=False)\n",
      "        (down_proj): Linear(in_features=8960, out_features=1536, bias=False)\n",
      "        (act_fn): SiLU()\n",
      "      )\n",
      "      (input_layernorm): Qwen2RMSNorm((1536,), eps=1e-06)\n",
      "      (post_attention_layernorm): Qwen2RMSNorm((1536,), eps=1e-06)\n",
      "    )\n",
      "  )\n",
      "  (norm): Qwen2RMSNorm((1536,), eps=1e-06)\n",
      "  (rotary_emb): Qwen2RotaryEmbedding()\n",
      ")\n"
     ]
    }
   ],
   "source": [
    "embed_model_name = \"Alibaba-NLP/gte-Qwen2-1.5B-instruct\"\n",
    "embed_model = AutoModel.from_pretrained(embed_model_name).to('cuda')\n",
    "embed_tokenizer = AutoTokenizer.from_pretrained(embed_model_name)\n",
    "embed_model.eval\n",
    "\n",
    "print(embed_model.num_parameters())\n",
    "print(embed_model)"
   ]
  },
  {
   "cell_type": "code",
   "execution_count": 19,
   "metadata": {},
   "outputs": [
    {
     "data": {
      "text/plain": [
       "odict_keys(['embed_tokens.weight', 'layers.0.self_attn.q_proj.weight', 'layers.0.self_attn.q_proj.bias', 'layers.0.self_attn.k_proj.weight', 'layers.0.self_attn.k_proj.bias', 'layers.0.self_attn.v_proj.weight', 'layers.0.self_attn.v_proj.bias', 'layers.0.self_attn.o_proj.weight', 'layers.0.mlp.gate_proj.weight', 'layers.0.mlp.up_proj.weight', 'layers.0.mlp.down_proj.weight', 'layers.0.input_layernorm.weight', 'layers.0.post_attention_layernorm.weight', 'layers.1.self_attn.q_proj.weight', 'layers.1.self_attn.q_proj.bias', 'layers.1.self_attn.k_proj.weight', 'layers.1.self_attn.k_proj.bias', 'layers.1.self_attn.v_proj.weight', 'layers.1.self_attn.v_proj.bias', 'layers.1.self_attn.o_proj.weight', 'layers.1.mlp.gate_proj.weight', 'layers.1.mlp.up_proj.weight', 'layers.1.mlp.down_proj.weight', 'layers.1.input_layernorm.weight', 'layers.1.post_attention_layernorm.weight', 'layers.2.self_attn.q_proj.weight', 'layers.2.self_attn.q_proj.bias', 'layers.2.self_attn.k_proj.weight', 'layers.2.self_attn.k_proj.bias', 'layers.2.self_attn.v_proj.weight', 'layers.2.self_attn.v_proj.bias', 'layers.2.self_attn.o_proj.weight', 'layers.2.mlp.gate_proj.weight', 'layers.2.mlp.up_proj.weight', 'layers.2.mlp.down_proj.weight', 'layers.2.input_layernorm.weight', 'layers.2.post_attention_layernorm.weight', 'layers.3.self_attn.q_proj.weight', 'layers.3.self_attn.q_proj.bias', 'layers.3.self_attn.k_proj.weight', 'layers.3.self_attn.k_proj.bias', 'layers.3.self_attn.v_proj.weight', 'layers.3.self_attn.v_proj.bias', 'layers.3.self_attn.o_proj.weight', 'layers.3.mlp.gate_proj.weight', 'layers.3.mlp.up_proj.weight', 'layers.3.mlp.down_proj.weight', 'layers.3.input_layernorm.weight', 'layers.3.post_attention_layernorm.weight', 'layers.4.self_attn.q_proj.weight', 'layers.4.self_attn.q_proj.bias', 'layers.4.self_attn.k_proj.weight', 'layers.4.self_attn.k_proj.bias', 'layers.4.self_attn.v_proj.weight', 'layers.4.self_attn.v_proj.bias', 'layers.4.self_attn.o_proj.weight', 'layers.4.mlp.gate_proj.weight', 'layers.4.mlp.up_proj.weight', 'layers.4.mlp.down_proj.weight', 'layers.4.input_layernorm.weight', 'layers.4.post_attention_layernorm.weight', 'layers.5.self_attn.q_proj.weight', 'layers.5.self_attn.q_proj.bias', 'layers.5.self_attn.k_proj.weight', 'layers.5.self_attn.k_proj.bias', 'layers.5.self_attn.v_proj.weight', 'layers.5.self_attn.v_proj.bias', 'layers.5.self_attn.o_proj.weight', 'layers.5.mlp.gate_proj.weight', 'layers.5.mlp.up_proj.weight', 'layers.5.mlp.down_proj.weight', 'layers.5.input_layernorm.weight', 'layers.5.post_attention_layernorm.weight', 'layers.6.self_attn.q_proj.weight', 'layers.6.self_attn.q_proj.bias', 'layers.6.self_attn.k_proj.weight', 'layers.6.self_attn.k_proj.bias', 'layers.6.self_attn.v_proj.weight', 'layers.6.self_attn.v_proj.bias', 'layers.6.self_attn.o_proj.weight', 'layers.6.mlp.gate_proj.weight', 'layers.6.mlp.up_proj.weight', 'layers.6.mlp.down_proj.weight', 'layers.6.input_layernorm.weight', 'layers.6.post_attention_layernorm.weight', 'layers.7.self_attn.q_proj.weight', 'layers.7.self_attn.q_proj.bias', 'layers.7.self_attn.k_proj.weight', 'layers.7.self_attn.k_proj.bias', 'layers.7.self_attn.v_proj.weight', 'layers.7.self_attn.v_proj.bias', 'layers.7.self_attn.o_proj.weight', 'layers.7.mlp.gate_proj.weight', 'layers.7.mlp.up_proj.weight', 'layers.7.mlp.down_proj.weight', 'layers.7.input_layernorm.weight', 'layers.7.post_attention_layernorm.weight', 'layers.8.self_attn.q_proj.weight', 'layers.8.self_attn.q_proj.bias', 'layers.8.self_attn.k_proj.weight', 'layers.8.self_attn.k_proj.bias', 'layers.8.self_attn.v_proj.weight', 'layers.8.self_attn.v_proj.bias', 'layers.8.self_attn.o_proj.weight', 'layers.8.mlp.gate_proj.weight', 'layers.8.mlp.up_proj.weight', 'layers.8.mlp.down_proj.weight', 'layers.8.input_layernorm.weight', 'layers.8.post_attention_layernorm.weight', 'layers.9.self_attn.q_proj.weight', 'layers.9.self_attn.q_proj.bias', 'layers.9.self_attn.k_proj.weight', 'layers.9.self_attn.k_proj.bias', 'layers.9.self_attn.v_proj.weight', 'layers.9.self_attn.v_proj.bias', 'layers.9.self_attn.o_proj.weight', 'layers.9.mlp.gate_proj.weight', 'layers.9.mlp.up_proj.weight', 'layers.9.mlp.down_proj.weight', 'layers.9.input_layernorm.weight', 'layers.9.post_attention_layernorm.weight', 'layers.10.self_attn.q_proj.weight', 'layers.10.self_attn.q_proj.bias', 'layers.10.self_attn.k_proj.weight', 'layers.10.self_attn.k_proj.bias', 'layers.10.self_attn.v_proj.weight', 'layers.10.self_attn.v_proj.bias', 'layers.10.self_attn.o_proj.weight', 'layers.10.mlp.gate_proj.weight', 'layers.10.mlp.up_proj.weight', 'layers.10.mlp.down_proj.weight', 'layers.10.input_layernorm.weight', 'layers.10.post_attention_layernorm.weight', 'layers.11.self_attn.q_proj.weight', 'layers.11.self_attn.q_proj.bias', 'layers.11.self_attn.k_proj.weight', 'layers.11.self_attn.k_proj.bias', 'layers.11.self_attn.v_proj.weight', 'layers.11.self_attn.v_proj.bias', 'layers.11.self_attn.o_proj.weight', 'layers.11.mlp.gate_proj.weight', 'layers.11.mlp.up_proj.weight', 'layers.11.mlp.down_proj.weight', 'layers.11.input_layernorm.weight', 'layers.11.post_attention_layernorm.weight', 'layers.12.self_attn.q_proj.weight', 'layers.12.self_attn.q_proj.bias', 'layers.12.self_attn.k_proj.weight', 'layers.12.self_attn.k_proj.bias', 'layers.12.self_attn.v_proj.weight', 'layers.12.self_attn.v_proj.bias', 'layers.12.self_attn.o_proj.weight', 'layers.12.mlp.gate_proj.weight', 'layers.12.mlp.up_proj.weight', 'layers.12.mlp.down_proj.weight', 'layers.12.input_layernorm.weight', 'layers.12.post_attention_layernorm.weight', 'layers.13.self_attn.q_proj.weight', 'layers.13.self_attn.q_proj.bias', 'layers.13.self_attn.k_proj.weight', 'layers.13.self_attn.k_proj.bias', 'layers.13.self_attn.v_proj.weight', 'layers.13.self_attn.v_proj.bias', 'layers.13.self_attn.o_proj.weight', 'layers.13.mlp.gate_proj.weight', 'layers.13.mlp.up_proj.weight', 'layers.13.mlp.down_proj.weight', 'layers.13.input_layernorm.weight', 'layers.13.post_attention_layernorm.weight', 'layers.14.self_attn.q_proj.weight', 'layers.14.self_attn.q_proj.bias', 'layers.14.self_attn.k_proj.weight', 'layers.14.self_attn.k_proj.bias', 'layers.14.self_attn.v_proj.weight', 'layers.14.self_attn.v_proj.bias', 'layers.14.self_attn.o_proj.weight', 'layers.14.mlp.gate_proj.weight', 'layers.14.mlp.up_proj.weight', 'layers.14.mlp.down_proj.weight', 'layers.14.input_layernorm.weight', 'layers.14.post_attention_layernorm.weight', 'layers.15.self_attn.q_proj.weight', 'layers.15.self_attn.q_proj.bias', 'layers.15.self_attn.k_proj.weight', 'layers.15.self_attn.k_proj.bias', 'layers.15.self_attn.v_proj.weight', 'layers.15.self_attn.v_proj.bias', 'layers.15.self_attn.o_proj.weight', 'layers.15.mlp.gate_proj.weight', 'layers.15.mlp.up_proj.weight', 'layers.15.mlp.down_proj.weight', 'layers.15.input_layernorm.weight', 'layers.15.post_attention_layernorm.weight', 'layers.16.self_attn.q_proj.weight', 'layers.16.self_attn.q_proj.bias', 'layers.16.self_attn.k_proj.weight', 'layers.16.self_attn.k_proj.bias', 'layers.16.self_attn.v_proj.weight', 'layers.16.self_attn.v_proj.bias', 'layers.16.self_attn.o_proj.weight', 'layers.16.mlp.gate_proj.weight', 'layers.16.mlp.up_proj.weight', 'layers.16.mlp.down_proj.weight', 'layers.16.input_layernorm.weight', 'layers.16.post_attention_layernorm.weight', 'layers.17.self_attn.q_proj.weight', 'layers.17.self_attn.q_proj.bias', 'layers.17.self_attn.k_proj.weight', 'layers.17.self_attn.k_proj.bias', 'layers.17.self_attn.v_proj.weight', 'layers.17.self_attn.v_proj.bias', 'layers.17.self_attn.o_proj.weight', 'layers.17.mlp.gate_proj.weight', 'layers.17.mlp.up_proj.weight', 'layers.17.mlp.down_proj.weight', 'layers.17.input_layernorm.weight', 'layers.17.post_attention_layernorm.weight', 'layers.18.self_attn.q_proj.weight', 'layers.18.self_attn.q_proj.bias', 'layers.18.self_attn.k_proj.weight', 'layers.18.self_attn.k_proj.bias', 'layers.18.self_attn.v_proj.weight', 'layers.18.self_attn.v_proj.bias', 'layers.18.self_attn.o_proj.weight', 'layers.18.mlp.gate_proj.weight', 'layers.18.mlp.up_proj.weight', 'layers.18.mlp.down_proj.weight', 'layers.18.input_layernorm.weight', 'layers.18.post_attention_layernorm.weight', 'layers.19.self_attn.q_proj.weight', 'layers.19.self_attn.q_proj.bias', 'layers.19.self_attn.k_proj.weight', 'layers.19.self_attn.k_proj.bias', 'layers.19.self_attn.v_proj.weight', 'layers.19.self_attn.v_proj.bias', 'layers.19.self_attn.o_proj.weight', 'layers.19.mlp.gate_proj.weight', 'layers.19.mlp.up_proj.weight', 'layers.19.mlp.down_proj.weight', 'layers.19.input_layernorm.weight', 'layers.19.post_attention_layernorm.weight', 'layers.20.self_attn.q_proj.weight', 'layers.20.self_attn.q_proj.bias', 'layers.20.self_attn.k_proj.weight', 'layers.20.self_attn.k_proj.bias', 'layers.20.self_attn.v_proj.weight', 'layers.20.self_attn.v_proj.bias', 'layers.20.self_attn.o_proj.weight', 'layers.20.mlp.gate_proj.weight', 'layers.20.mlp.up_proj.weight', 'layers.20.mlp.down_proj.weight', 'layers.20.input_layernorm.weight', 'layers.20.post_attention_layernorm.weight', 'layers.21.self_attn.q_proj.weight', 'layers.21.self_attn.q_proj.bias', 'layers.21.self_attn.k_proj.weight', 'layers.21.self_attn.k_proj.bias', 'layers.21.self_attn.v_proj.weight', 'layers.21.self_attn.v_proj.bias', 'layers.21.self_attn.o_proj.weight', 'layers.21.mlp.gate_proj.weight', 'layers.21.mlp.up_proj.weight', 'layers.21.mlp.down_proj.weight', 'layers.21.input_layernorm.weight', 'layers.21.post_attention_layernorm.weight', 'layers.22.self_attn.q_proj.weight', 'layers.22.self_attn.q_proj.bias', 'layers.22.self_attn.k_proj.weight', 'layers.22.self_attn.k_proj.bias', 'layers.22.self_attn.v_proj.weight', 'layers.22.self_attn.v_proj.bias', 'layers.22.self_attn.o_proj.weight', 'layers.22.mlp.gate_proj.weight', 'layers.22.mlp.up_proj.weight', 'layers.22.mlp.down_proj.weight', 'layers.22.input_layernorm.weight', 'layers.22.post_attention_layernorm.weight', 'layers.23.self_attn.q_proj.weight', 'layers.23.self_attn.q_proj.bias', 'layers.23.self_attn.k_proj.weight', 'layers.23.self_attn.k_proj.bias', 'layers.23.self_attn.v_proj.weight', 'layers.23.self_attn.v_proj.bias', 'layers.23.self_attn.o_proj.weight', 'layers.23.mlp.gate_proj.weight', 'layers.23.mlp.up_proj.weight', 'layers.23.mlp.down_proj.weight', 'layers.23.input_layernorm.weight', 'layers.23.post_attention_layernorm.weight', 'layers.24.self_attn.q_proj.weight', 'layers.24.self_attn.q_proj.bias', 'layers.24.self_attn.k_proj.weight', 'layers.24.self_attn.k_proj.bias', 'layers.24.self_attn.v_proj.weight', 'layers.24.self_attn.v_proj.bias', 'layers.24.self_attn.o_proj.weight', 'layers.24.mlp.gate_proj.weight', 'layers.24.mlp.up_proj.weight', 'layers.24.mlp.down_proj.weight', 'layers.24.input_layernorm.weight', 'layers.24.post_attention_layernorm.weight', 'layers.25.self_attn.q_proj.weight', 'layers.25.self_attn.q_proj.bias', 'layers.25.self_attn.k_proj.weight', 'layers.25.self_attn.k_proj.bias', 'layers.25.self_attn.v_proj.weight', 'layers.25.self_attn.v_proj.bias', 'layers.25.self_attn.o_proj.weight', 'layers.25.mlp.gate_proj.weight', 'layers.25.mlp.up_proj.weight', 'layers.25.mlp.down_proj.weight', 'layers.25.input_layernorm.weight', 'layers.25.post_attention_layernorm.weight', 'layers.26.self_attn.q_proj.weight', 'layers.26.self_attn.q_proj.bias', 'layers.26.self_attn.k_proj.weight', 'layers.26.self_attn.k_proj.bias', 'layers.26.self_attn.v_proj.weight', 'layers.26.self_attn.v_proj.bias', 'layers.26.self_attn.o_proj.weight', 'layers.26.mlp.gate_proj.weight', 'layers.26.mlp.up_proj.weight', 'layers.26.mlp.down_proj.weight', 'layers.26.input_layernorm.weight', 'layers.26.post_attention_layernorm.weight', 'layers.27.self_attn.q_proj.weight', 'layers.27.self_attn.q_proj.bias', 'layers.27.self_attn.k_proj.weight', 'layers.27.self_attn.k_proj.bias', 'layers.27.self_attn.v_proj.weight', 'layers.27.self_attn.v_proj.bias', 'layers.27.self_attn.o_proj.weight', 'layers.27.mlp.gate_proj.weight', 'layers.27.mlp.up_proj.weight', 'layers.27.mlp.down_proj.weight', 'layers.27.input_layernorm.weight', 'layers.27.post_attention_layernorm.weight', 'norm.weight'])"
      ]
     },
     "execution_count": 19,
     "metadata": {},
     "output_type": "execute_result"
    }
   ],
   "source": [
    "embed_model.state_dict().keys()"
   ]
  },
  {
   "cell_type": "code",
   "execution_count": 21,
   "metadata": {},
   "outputs": [
    {
     "data": {
      "text/plain": [
       "False"
      ]
     },
     "execution_count": 21,
     "metadata": {},
     "output_type": "execute_result"
    }
   ],
   "source": [
    "'lm_head.weight' in embed_model.state_dict().keys()"
   ]
  },
  {
   "cell_type": "code",
   "execution_count": 8,
   "metadata": {},
   "outputs": [
    {
     "name": "stdout",
     "output_type": "stream",
     "text": [
      "124647939\n",
      "RobertaForSequenceClassification(\n",
      "  (roberta): RobertaModel(\n",
      "    (embeddings): RobertaEmbeddings(\n",
      "      (word_embeddings): Embedding(50265, 768, padding_idx=1)\n",
      "      (position_embeddings): Embedding(514, 768, padding_idx=1)\n",
      "      (token_type_embeddings): Embedding(1, 768)\n",
      "      (LayerNorm): LayerNorm((768,), eps=1e-05, elementwise_affine=True)\n",
      "      (dropout): Dropout(p=0.1, inplace=False)\n",
      "    )\n",
      "    (encoder): RobertaEncoder(\n",
      "      (layer): ModuleList(\n",
      "        (0-11): 12 x RobertaLayer(\n",
      "          (attention): RobertaAttention(\n",
      "            (self): RobertaSdpaSelfAttention(\n",
      "              (query): Linear(in_features=768, out_features=768, bias=True)\n",
      "              (key): Linear(in_features=768, out_features=768, bias=True)\n",
      "              (value): Linear(in_features=768, out_features=768, bias=True)\n",
      "              (dropout): Dropout(p=0.1, inplace=False)\n",
      "            )\n",
      "            (output): RobertaSelfOutput(\n",
      "              (dense): Linear(in_features=768, out_features=768, bias=True)\n",
      "              (LayerNorm): LayerNorm((768,), eps=1e-05, elementwise_affine=True)\n",
      "              (dropout): Dropout(p=0.1, inplace=False)\n",
      "            )\n",
      "          )\n",
      "          (intermediate): RobertaIntermediate(\n",
      "            (dense): Linear(in_features=768, out_features=3072, bias=True)\n",
      "            (intermediate_act_fn): GELUActivation()\n",
      "          )\n",
      "          (output): RobertaOutput(\n",
      "            (dense): Linear(in_features=3072, out_features=768, bias=True)\n",
      "            (LayerNorm): LayerNorm((768,), eps=1e-05, elementwise_affine=True)\n",
      "            (dropout): Dropout(p=0.1, inplace=False)\n",
      "          )\n",
      "        )\n",
      "      )\n",
      "    )\n",
      "  )\n",
      "  (classifier): RobertaClassificationHead(\n",
      "    (dense): Linear(in_features=768, out_features=768, bias=True)\n",
      "    (dropout): Dropout(p=0.1, inplace=False)\n",
      "    (out_proj): Linear(in_features=768, out_features=3, bias=True)\n",
      "  )\n",
      ")\n"
     ]
    }
   ],
   "source": [
    "print(embed_model.num_parameters())\n",
    "print(embed_model)"
   ]
  },
  {
   "cell_type": "code",
   "execution_count": 10,
   "metadata": {},
   "outputs": [
    {
     "name": "stdout",
     "output_type": "stream",
     "text": [
      "66362880\n",
      "DistilBertModel(\n",
      "  (embeddings): Embeddings(\n",
      "    (word_embeddings): Embedding(30522, 768, padding_idx=0)\n",
      "    (position_embeddings): Embedding(512, 768)\n",
      "    (LayerNorm): LayerNorm((768,), eps=1e-12, elementwise_affine=True)\n",
      "    (dropout): Dropout(p=0.1, inplace=False)\n",
      "  )\n",
      "  (transformer): Transformer(\n",
      "    (layer): ModuleList(\n",
      "      (0-5): 6 x TransformerBlock(\n",
      "        (attention): MultiHeadSelfAttention(\n",
      "          (dropout): Dropout(p=0.1, inplace=False)\n",
      "          (q_lin): Linear(in_features=768, out_features=768, bias=True)\n",
      "          (k_lin): Linear(in_features=768, out_features=768, bias=True)\n",
      "          (v_lin): Linear(in_features=768, out_features=768, bias=True)\n",
      "          (out_lin): Linear(in_features=768, out_features=768, bias=True)\n",
      "        )\n",
      "        (sa_layer_norm): LayerNorm((768,), eps=1e-12, elementwise_affine=True)\n",
      "        (ffn): FFN(\n",
      "          (dropout): Dropout(p=0.1, inplace=False)\n",
      "          (lin1): Linear(in_features=768, out_features=3072, bias=True)\n",
      "          (lin2): Linear(in_features=3072, out_features=768, bias=True)\n",
      "          (activation): GELUActivation()\n",
      "        )\n",
      "        (output_layer_norm): LayerNorm((768,), eps=1e-12, elementwise_affine=True)\n",
      "      )\n",
      "    )\n",
      "  )\n",
      ")\n"
     ]
    }
   ],
   "source": [
    "print(embed_model.num_parameters())\n",
    "print(embed_model)"
   ]
  },
  {
   "cell_type": "code",
   "execution_count": 27,
   "metadata": {},
   "outputs": [
    {
     "data": {
      "text/plain": [
       "TransformModel(\n",
       "  (layers): ModuleList(\n",
       "    (0): Linear(in_features=768, out_features=512, bias=True)\n",
       "    (1-2): 2 x ResidualBlock(\n",
       "      (fc): Linear(in_features=512, out_features=512, bias=True)\n",
       "      (relu): ReLU()\n",
       "    )\n",
       "    (3): Linear(in_features=512, out_features=384, bias=True)\n",
       "  )\n",
       ")"
      ]
     },
     "execution_count": 27,
     "metadata": {},
     "output_type": "execute_result"
    }
   ],
   "source": [
    "model = TransformModel(input_dim=args.input_dim).to(device)\n",
    "model"
   ]
  }
 ],
 "metadata": {
  "kernelspec": {
   "display_name": "watermark",
   "language": "python",
   "name": "python3"
  },
  "language_info": {
   "codemirror_mode": {
    "name": "ipython",
    "version": 3
   },
   "file_extension": ".py",
   "mimetype": "text/x-python",
   "name": "python",
   "nbconvert_exporter": "python",
   "pygments_lexer": "ipython3",
   "version": "3.10.15"
  }
 },
 "nbformat": 4,
 "nbformat_minor": 2
}
